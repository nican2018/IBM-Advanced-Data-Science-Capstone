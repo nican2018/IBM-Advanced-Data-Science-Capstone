{
    "cells": [
        {
            "cell_type": "markdown",
            "metadata": {},
            "source": "# # IBM Coursera Advanced Data Science Capstone\n\n \nBuilding a Value Prediction system\n\n\nAccording to Epsilon research, 80% of customers are more likely to do business with you if you provide personalized service. The bank is no exception.\n\nDigitization of everyday life means that customers expect services to be delivered in a personalized and timely manner, and often before they even realize they need them. In its 3rd Kaggle competition, the Santander Group aims to go beyond recognizing the need to provide a financial service to a client and intends to determine the amount or the value of the client's transaction. It means anticipating customer needs in a more concrete, but also simple and personal way. With so many financial services choices, this need is more important than ever. [Banco Santander]\n\nIn this book, we are building a prediction system to help identify the value of transactions for each potential customer. It is a first step that Santander must nail down to personalize its services on a large scale.\n\n# Goal \nIn this notebook, I expect to:\n    <ul>\n        <li>Apply regressions algorithms</li>\n        <li>Understand the idea of parallel programming</li>\n        <li> Build a simple model for a real usecase: Value prediction system</li>\n        <li> Understand how to validate the results</li>\n    <ul>    "
        },
        {
            "cell_type": "code",
            "execution_count": 2,
            "metadata": {},
            "outputs": [
                {
                    "name": "stdout",
                    "output_type": "stream",
                    "text": "Collecting pyspark==2.4.5\n\u001b[?25l  Downloading https://files.pythonhosted.org/packages/9a/5a/271c416c1c2185b6cb0151b29a91fff6fcaed80173c8584ff6d20e46b465/pyspark-2.4.5.tar.gz (217.8MB)\n\u001b[K     |\u2588\u2588\u2588\u2588\u2588\u2588\u2588\u2588\u2588\u2588\u2588\u2588\u2588\u2588\u2588\u2588\u2588\u2588\u2588\u2588\u2588\u2588\u2588\u2588\u2588\u2588\u2588\u2588\u2588\u2588\u2588\u2588| 217.8MB 135kB/s eta 0:00:015   |\u2588\u258c                              | 10.1MB 7.7MB/s eta 0:00:2714.5MB 7.7MB/s eta 0:00:27     |\u2588\u2588\u258c                             | 16.7MB 7.7MB/s eta 0:00:26     |\u2588\u2588\u2588\u2588\u2588\u2588\u2588\u2588\u2588\u2588                      | 68.1MB 28.7MB/s eta 0:00:06     |\u2588\u2588\u2588\u2588\u2588\u2588\u2588\u2588\u2588\u2588\u2588\u2589                    | 80.8MB 28.7MB/s eta 0:00:0530.9MB/s eta 0:00:04    |\u2588\u2588\u2588\u2588\u2588\u2588\u2588\u2588\u2588\u2588\u2588\u2588\u2588\u2588\u2588\u2588\u2589               | 114.5MB 8.7MB/s eta 0:00:12     |\u2588\u2588\u2588\u2588\u2588\u2588\u2588\u2588\u2588\u2588\u2588\u2588\u2588\u2588\u2588\u2588\u2588\u258f              | 117.0MB 8.7MB/s eta 0:00:12    | 119.3MB 8.7MB/s eta 0:00:12     |\u2588\u2588\u2588\u2588\u2588\u2588\u2588\u2588\u2588\u2588\u2588\u2588\u2588\u2588\u2588\u2588\u2588\u2588              | 122.8MB 8.7MB/s eta 0:00:11\ufffd\ufffd\u2588\u2588\u258a           | 141.0MB 14.4MB/s eta 0:00:06     |\u2588\u2588\u2588\u2588\u2588\u2588\u2588\u2588\u2588\u2588\u2588\u2588\u2588\u2588\u2588\u2588\u2588\u2588\u2588\u2588\u2588\u258a          | 147.7MB 8.8MB/s eta 0:00:08     |\u2588\u2588\u2588\u2588\u2588\u2588\u2588\u2588\u2588\u2588\u2588\u2588\u2588\u2588\u2588\u2588\u2588\u2588\u2588\u2588\u2588\u2588\u2588\u2588\u2588\u2588      | 176.9MB 9.1MB/s eta 0:00:05     |\u2588\u2588\u2588\u2588\u2588\u2588\u2588\u2588\u2588\u2588\u2588\u2588\u2588\u2588\u2588\u2588\u2588\u2588\u2588\u2588\u2588\u2588\u2588\u2588\u2588\u2588\u258f     | 177.8MB 9.1MB/s eta 0:00:05     |\u2588\u2588\u2588\u2588\u2588\u2588\u2588\u2588\u2588\u2588\u2588\u2588\u2588\u2588\u2588\u2588\u2588\u2588\u2588\u2588\u2588\u2588\u2588\u2588\u2588\u2588\u2588\u2588\u2588\u258d  | 200.2MB 9.1MB/s eta 0:00:021\n\u001b[?25hCollecting py4j==0.10.7 (from pyspark==2.4.5)\n\u001b[?25l  Downloading https://files.pythonhosted.org/packages/e3/53/c737818eb9a7dc32a7cd4f1396e787bd94200c3997c72c1dbe028587bd76/py4j-0.10.7-py2.py3-none-any.whl (197kB)\n\u001b[K     |\u2588\u2588\u2588\u2588\u2588\u2588\u2588\u2588\u2588\u2588\u2588\u2588\u2588\u2588\u2588\u2588\u2588\u2588\u2588\u2588\u2588\u2588\u2588\u2588\u2588\u2588\u2588\u2588\u2588\u2588\u2588\u2588| 204kB 31.2MB/s eta 0:00:01\n\u001b[?25hBuilding wheels for collected packages: pyspark\n  Building wheel for pyspark (setup.py) ... \u001b[?25ldone\n\u001b[?25h  Stored in directory: /home/dsxuser/.cache/pip/wheels/bf/db/04/61d66a5939364e756eb1c1be4ec5bdce6e04047fc7929a3c3c\nSuccessfully built pyspark\nInstalling collected packages: py4j, pyspark\nSuccessfully installed py4j-0.10.7 pyspark-2.4.5\n"
                }
            ],
            "source": "!pip install pyspark==2.4.5"
        },
        {
            "cell_type": "markdown",
            "metadata": {},
            "source": "# Importing Library"
        },
        {
            "cell_type": "code",
            "execution_count": 3,
            "metadata": {},
            "outputs": [
                {
                    "name": "stderr",
                    "output_type": "stream",
                    "text": "Using TensorFlow backend.\n"
                }
            ],
            "source": "%matplotlib inline\nimport matplotlib.pyplot as plt\nimport pandas as pd\nimport numpy as np\nfrom time import time\nfrom mpl_toolkits.mplot3d import Axes3D\n\nfrom sklearn.linear_model import RidgeCV, LassoCV, LogisticRegression\nfrom sklearn.preprocessing import MinMaxScaler\nfrom sklearn.feature_selection import RFE,  SelectFromModel\nfrom sklearn.decomposition import PCA\nfrom sklearn.model_selection import cross_val_score\nfrom sklearn.model_selection import KFold\nfrom sklearn.preprocessing import StandardScaler\nfrom sklearn.pipeline import Pipeline\nfrom sklearn.model_selection import train_test_split\n\n\nfrom pyspark.ml import Pipeline\nfrom pyspark.ml.regression import GBTRegressor\nfrom pyspark.ml.feature import VectorIndexer\nfrom pyspark.ml.evaluation import RegressionEvaluator\nfrom pyspark.ml.feature import Normalizer\n\nfrom pyspark import SparkContext, SparkConf\nfrom pyspark.sql import SQLContext, SparkSession\nfrom pyspark.sql.types import StructType, StructField, DoubleType, IntegerType, StringType\nsc = SparkContext.getOrCreate(SparkConf().setMaster(\"local[*]\"))\nfrom pyspark.sql import SparkSession\nspark = SparkSession \\\n    .builder \\\n    .getOrCreate()\nfrom pyspark.ml.linalg import Vectors\nfrom pyspark.ml.feature import VectorAssembler\nimport statsmodels.api as sm\nfrom sklearn.svm import SVR\nfrom pyspark.ml.feature import ChiSqSelector\nfrom pyspark.ml.regression import LinearRegression\nsqlContext = SQLContext(sc)\n\n\nimport warnings\nwarnings.filterwarnings(\"ignore\")\n\nimport keras\n#Neural network module\nfrom keras.models import Sequential \nfrom keras.layers import Dense,Activation,Dropout \nfrom keras.layers.normalization import BatchNormalization \nfrom keras.utils import np_utils\nfrom keras.regularizers import l2\nfrom keras.utils.vis_utils import plot_model\nfrom keras.wrappers.scikit_learn import KerasRegressor"
        },
        {
            "cell_type": "code",
            "execution_count": 4,
            "metadata": {},
            "outputs": [],
            "source": "import seaborn as sns"
        },
        {
            "cell_type": "markdown",
            "metadata": {},
            "source": "# 1. Load and prepare the data\n\nA critical step in working with neural networks is preparing the data correctly. Variables on different scales make it difficult for the network to efficiently learn the correct weights. Below, we've written the code to load and prepare the data.\n"
        },
        {
            "cell_type": "code",
            "execution_count": 5,
            "metadata": {},
            "outputs": [
                {
                    "data": {
                        "text/html": "<div>\n<style scoped>\n    .dataframe tbody tr th:only-of-type {\n        vertical-align: middle;\n    }\n\n    .dataframe tbody tr th {\n        vertical-align: top;\n    }\n\n    .dataframe thead th {\n        text-align: right;\n    }\n</style>\n<table border=\"1\" class=\"dataframe\">\n  <thead>\n    <tr style=\"text-align: right;\">\n      <th></th>\n      <th>ID</th>\n      <th>target</th>\n      <th>48df886f9</th>\n      <th>0deb4b6a8</th>\n      <th>34b15f335</th>\n      <th>a8cb14b00</th>\n      <th>2f0771a37</th>\n      <th>30347e683</th>\n      <th>d08d1fbe3</th>\n      <th>6ee66e115</th>\n      <th>...</th>\n      <th>3ecc09859</th>\n      <th>9281abeea</th>\n      <th>8675bec0b</th>\n      <th>3a13ed79a</th>\n      <th>f677d4d13</th>\n      <th>71b203550</th>\n      <th>137efaa80</th>\n      <th>fb36b89d9</th>\n      <th>7e293fbaf</th>\n      <th>9fc776466</th>\n    </tr>\n  </thead>\n  <tbody>\n    <tr>\n      <th>0</th>\n      <td>000d6aaf2</td>\n      <td>38000000.0</td>\n      <td>0.0</td>\n      <td>0</td>\n      <td>0.0</td>\n      <td>0</td>\n      <td>0</td>\n      <td>0</td>\n      <td>0</td>\n      <td>0</td>\n      <td>...</td>\n      <td>0.0</td>\n      <td>0.0</td>\n      <td>0.0</td>\n      <td>0</td>\n      <td>0</td>\n      <td>0</td>\n      <td>0</td>\n      <td>0</td>\n      <td>0</td>\n      <td>0</td>\n    </tr>\n    <tr>\n      <th>1</th>\n      <td>000fbd867</td>\n      <td>600000.0</td>\n      <td>0.0</td>\n      <td>0</td>\n      <td>0.0</td>\n      <td>0</td>\n      <td>0</td>\n      <td>0</td>\n      <td>0</td>\n      <td>0</td>\n      <td>...</td>\n      <td>0.0</td>\n      <td>0.0</td>\n      <td>0.0</td>\n      <td>0</td>\n      <td>0</td>\n      <td>0</td>\n      <td>0</td>\n      <td>0</td>\n      <td>0</td>\n      <td>0</td>\n    </tr>\n    <tr>\n      <th>2</th>\n      <td>0027d6b71</td>\n      <td>10000000.0</td>\n      <td>0.0</td>\n      <td>0</td>\n      <td>0.0</td>\n      <td>0</td>\n      <td>0</td>\n      <td>0</td>\n      <td>0</td>\n      <td>0</td>\n      <td>...</td>\n      <td>0.0</td>\n      <td>0.0</td>\n      <td>0.0</td>\n      <td>0</td>\n      <td>0</td>\n      <td>0</td>\n      <td>0</td>\n      <td>0</td>\n      <td>0</td>\n      <td>0</td>\n    </tr>\n    <tr>\n      <th>3</th>\n      <td>0028cbf45</td>\n      <td>2000000.0</td>\n      <td>0.0</td>\n      <td>0</td>\n      <td>0.0</td>\n      <td>0</td>\n      <td>0</td>\n      <td>0</td>\n      <td>0</td>\n      <td>0</td>\n      <td>...</td>\n      <td>0.0</td>\n      <td>0.0</td>\n      <td>0.0</td>\n      <td>0</td>\n      <td>0</td>\n      <td>0</td>\n      <td>0</td>\n      <td>0</td>\n      <td>0</td>\n      <td>0</td>\n    </tr>\n    <tr>\n      <th>4</th>\n      <td>002a68644</td>\n      <td>14400000.0</td>\n      <td>0.0</td>\n      <td>0</td>\n      <td>0.0</td>\n      <td>0</td>\n      <td>0</td>\n      <td>0</td>\n      <td>0</td>\n      <td>0</td>\n      <td>...</td>\n      <td>0.0</td>\n      <td>0.0</td>\n      <td>0.0</td>\n      <td>0</td>\n      <td>0</td>\n      <td>0</td>\n      <td>0</td>\n      <td>0</td>\n      <td>0</td>\n      <td>0</td>\n    </tr>\n  </tbody>\n</table>\n<p>5 rows \u00d7 4993 columns</p>\n</div>",
                        "text/plain": "          ID      target  48df886f9  0deb4b6a8  34b15f335  a8cb14b00  \\\n0  000d6aaf2  38000000.0        0.0          0        0.0          0   \n1  000fbd867    600000.0        0.0          0        0.0          0   \n2  0027d6b71  10000000.0        0.0          0        0.0          0   \n3  0028cbf45   2000000.0        0.0          0        0.0          0   \n4  002a68644  14400000.0        0.0          0        0.0          0   \n\n   2f0771a37  30347e683  d08d1fbe3  6ee66e115  ...  3ecc09859  9281abeea  \\\n0          0          0          0          0  ...        0.0        0.0   \n1          0          0          0          0  ...        0.0        0.0   \n2          0          0          0          0  ...        0.0        0.0   \n3          0          0          0          0  ...        0.0        0.0   \n4          0          0          0          0  ...        0.0        0.0   \n\n   8675bec0b  3a13ed79a  f677d4d13  71b203550  137efaa80  fb36b89d9  \\\n0        0.0          0          0          0          0          0   \n1        0.0          0          0          0          0          0   \n2        0.0          0          0          0          0          0   \n3        0.0          0          0          0          0          0   \n4        0.0          0          0          0          0          0   \n\n   7e293fbaf  9fc776466  \n0          0          0  \n1          0          0  \n2          0          0  \n3          0          0  \n4          0          0  \n\n[5 rows x 4993 columns]"
                    },
                    "execution_count": 5,
                    "metadata": {},
                    "output_type": "execute_result"
                }
            ],
            "source": "# The code was removed by Watson Studio for sharing."
        },
        {
            "cell_type": "code",
            "execution_count": 3,
            "metadata": {},
            "outputs": [
                {
                    "data": {
                        "text/plain": "(4459, 4993)"
                    },
                    "execution_count": 3,
                    "metadata": {},
                    "output_type": "execute_result"
                }
            ],
            "source": "data.shape"
        },
        {
            "cell_type": "code",
            "execution_count": null,
            "metadata": {},
            "outputs": [],
            "source": " "
        },
        {
            "cell_type": "code",
            "execution_count": 4,
            "metadata": {},
            "outputs": [
                {
                    "data": {
                        "text/html": "<div>\n<style scoped>\n    .dataframe tbody tr th:only-of-type {\n        vertical-align: middle;\n    }\n\n    .dataframe tbody tr th {\n        vertical-align: top;\n    }\n\n    .dataframe thead th {\n        text-align: right;\n    }\n</style>\n<table border=\"1\" class=\"dataframe\">\n  <thead>\n    <tr style=\"text-align: right;\">\n      <th></th>\n      <th>ID</th>\n      <th>target</th>\n      <th>48df886f9</th>\n      <th>0deb4b6a8</th>\n      <th>34b15f335</th>\n      <th>a8cb14b00</th>\n      <th>2f0771a37</th>\n      <th>30347e683</th>\n      <th>d08d1fbe3</th>\n      <th>6ee66e115</th>\n      <th>...</th>\n      <th>3ecc09859</th>\n      <th>9281abeea</th>\n      <th>8675bec0b</th>\n      <th>3a13ed79a</th>\n      <th>f677d4d13</th>\n      <th>71b203550</th>\n      <th>137efaa80</th>\n      <th>fb36b89d9</th>\n      <th>7e293fbaf</th>\n      <th>9fc776466</th>\n    </tr>\n  </thead>\n  <tbody>\n    <tr>\n      <th>0</th>\n      <td>000d6aaf2</td>\n      <td>38000000.0</td>\n      <td>0.0</td>\n      <td>0</td>\n      <td>0.0</td>\n      <td>0</td>\n      <td>0</td>\n      <td>0</td>\n      <td>0</td>\n      <td>0</td>\n      <td>...</td>\n      <td>0.0</td>\n      <td>0.0</td>\n      <td>0.0</td>\n      <td>0</td>\n      <td>0</td>\n      <td>0</td>\n      <td>0</td>\n      <td>0</td>\n      <td>0</td>\n      <td>0</td>\n    </tr>\n    <tr>\n      <th>1</th>\n      <td>000fbd867</td>\n      <td>600000.0</td>\n      <td>0.0</td>\n      <td>0</td>\n      <td>0.0</td>\n      <td>0</td>\n      <td>0</td>\n      <td>0</td>\n      <td>0</td>\n      <td>0</td>\n      <td>...</td>\n      <td>0.0</td>\n      <td>0.0</td>\n      <td>0.0</td>\n      <td>0</td>\n      <td>0</td>\n      <td>0</td>\n      <td>0</td>\n      <td>0</td>\n      <td>0</td>\n      <td>0</td>\n    </tr>\n    <tr>\n      <th>2</th>\n      <td>0027d6b71</td>\n      <td>10000000.0</td>\n      <td>0.0</td>\n      <td>0</td>\n      <td>0.0</td>\n      <td>0</td>\n      <td>0</td>\n      <td>0</td>\n      <td>0</td>\n      <td>0</td>\n      <td>...</td>\n      <td>0.0</td>\n      <td>0.0</td>\n      <td>0.0</td>\n      <td>0</td>\n      <td>0</td>\n      <td>0</td>\n      <td>0</td>\n      <td>0</td>\n      <td>0</td>\n      <td>0</td>\n    </tr>\n    <tr>\n      <th>3</th>\n      <td>0028cbf45</td>\n      <td>2000000.0</td>\n      <td>0.0</td>\n      <td>0</td>\n      <td>0.0</td>\n      <td>0</td>\n      <td>0</td>\n      <td>0</td>\n      <td>0</td>\n      <td>0</td>\n      <td>...</td>\n      <td>0.0</td>\n      <td>0.0</td>\n      <td>0.0</td>\n      <td>0</td>\n      <td>0</td>\n      <td>0</td>\n      <td>0</td>\n      <td>0</td>\n      <td>0</td>\n      <td>0</td>\n    </tr>\n    <tr>\n      <th>4</th>\n      <td>002a68644</td>\n      <td>14400000.0</td>\n      <td>0.0</td>\n      <td>0</td>\n      <td>0.0</td>\n      <td>0</td>\n      <td>0</td>\n      <td>0</td>\n      <td>0</td>\n      <td>0</td>\n      <td>...</td>\n      <td>0.0</td>\n      <td>0.0</td>\n      <td>0.0</td>\n      <td>0</td>\n      <td>0</td>\n      <td>0</td>\n      <td>0</td>\n      <td>0</td>\n      <td>0</td>\n      <td>0</td>\n    </tr>\n  </tbody>\n</table>\n<p>5 rows \u00d7 4993 columns</p>\n</div>",
                        "text/plain": "          ID      target  48df886f9  0deb4b6a8  34b15f335  a8cb14b00  \\\n0  000d6aaf2  38000000.0        0.0          0        0.0          0   \n1  000fbd867    600000.0        0.0          0        0.0          0   \n2  0027d6b71  10000000.0        0.0          0        0.0          0   \n3  0028cbf45   2000000.0        0.0          0        0.0          0   \n4  002a68644  14400000.0        0.0          0        0.0          0   \n\n   2f0771a37  30347e683  d08d1fbe3  6ee66e115  ...  3ecc09859  9281abeea  \\\n0          0          0          0          0  ...        0.0        0.0   \n1          0          0          0          0  ...        0.0        0.0   \n2          0          0          0          0  ...        0.0        0.0   \n3          0          0          0          0  ...        0.0        0.0   \n4          0          0          0          0  ...        0.0        0.0   \n\n   8675bec0b  3a13ed79a  f677d4d13  71b203550  137efaa80  fb36b89d9  \\\n0        0.0          0          0          0          0          0   \n1        0.0          0          0          0          0          0   \n2        0.0          0          0          0          0          0   \n3        0.0          0          0          0          0          0   \n4        0.0          0          0          0          0          0   \n\n   7e293fbaf  9fc776466  \n0          0          0  \n1          0          0  \n2          0          0  \n3          0          0  \n4          0          0  \n\n[5 rows x 4993 columns]"
                    },
                    "execution_count": 4,
                    "metadata": {},
                    "output_type": "execute_result"
                }
            ],
            "source": "data.head()"
        },
        {
            "cell_type": "code",
            "execution_count": 10,
            "metadata": {},
            "outputs": [
                {
                    "data": {
                        "text/html": "<div>\n<style scoped>\n    .dataframe tbody tr th:only-of-type {\n        vertical-align: middle;\n    }\n\n    .dataframe tbody tr th {\n        vertical-align: top;\n    }\n\n    .dataframe thead th {\n        text-align: right;\n    }\n</style>\n<table border=\"1\" class=\"dataframe\">\n  <thead>\n    <tr style=\"text-align: right;\">\n      <th></th>\n      <th>target</th>\n      <th>48df886f9</th>\n      <th>0deb4b6a8</th>\n      <th>34b15f335</th>\n      <th>a8cb14b00</th>\n      <th>2f0771a37</th>\n      <th>30347e683</th>\n      <th>d08d1fbe3</th>\n      <th>6ee66e115</th>\n      <th>20aa07010</th>\n      <th>...</th>\n      <th>3ecc09859</th>\n      <th>9281abeea</th>\n      <th>8675bec0b</th>\n      <th>3a13ed79a</th>\n      <th>f677d4d13</th>\n      <th>71b203550</th>\n      <th>137efaa80</th>\n      <th>fb36b89d9</th>\n      <th>7e293fbaf</th>\n      <th>9fc776466</th>\n    </tr>\n  </thead>\n  <tbody>\n    <tr>\n      <th>0</th>\n      <td>38000000.0</td>\n      <td>0.0</td>\n      <td>0</td>\n      <td>0.0</td>\n      <td>0</td>\n      <td>0</td>\n      <td>0</td>\n      <td>0</td>\n      <td>0</td>\n      <td>0.0</td>\n      <td>...</td>\n      <td>0.0</td>\n      <td>0.0</td>\n      <td>0.0</td>\n      <td>0</td>\n      <td>0</td>\n      <td>0</td>\n      <td>0</td>\n      <td>0</td>\n      <td>0</td>\n      <td>0</td>\n    </tr>\n    <tr>\n      <th>1</th>\n      <td>600000.0</td>\n      <td>0.0</td>\n      <td>0</td>\n      <td>0.0</td>\n      <td>0</td>\n      <td>0</td>\n      <td>0</td>\n      <td>0</td>\n      <td>0</td>\n      <td>2200000.0</td>\n      <td>...</td>\n      <td>0.0</td>\n      <td>0.0</td>\n      <td>0.0</td>\n      <td>0</td>\n      <td>0</td>\n      <td>0</td>\n      <td>0</td>\n      <td>0</td>\n      <td>0</td>\n      <td>0</td>\n    </tr>\n    <tr>\n      <th>2</th>\n      <td>10000000.0</td>\n      <td>0.0</td>\n      <td>0</td>\n      <td>0.0</td>\n      <td>0</td>\n      <td>0</td>\n      <td>0</td>\n      <td>0</td>\n      <td>0</td>\n      <td>0.0</td>\n      <td>...</td>\n      <td>0.0</td>\n      <td>0.0</td>\n      <td>0.0</td>\n      <td>0</td>\n      <td>0</td>\n      <td>0</td>\n      <td>0</td>\n      <td>0</td>\n      <td>0</td>\n      <td>0</td>\n    </tr>\n    <tr>\n      <th>3</th>\n      <td>2000000.0</td>\n      <td>0.0</td>\n      <td>0</td>\n      <td>0.0</td>\n      <td>0</td>\n      <td>0</td>\n      <td>0</td>\n      <td>0</td>\n      <td>0</td>\n      <td>0.0</td>\n      <td>...</td>\n      <td>0.0</td>\n      <td>0.0</td>\n      <td>0.0</td>\n      <td>0</td>\n      <td>0</td>\n      <td>0</td>\n      <td>0</td>\n      <td>0</td>\n      <td>0</td>\n      <td>0</td>\n    </tr>\n    <tr>\n      <th>4</th>\n      <td>14400000.0</td>\n      <td>0.0</td>\n      <td>0</td>\n      <td>0.0</td>\n      <td>0</td>\n      <td>0</td>\n      <td>0</td>\n      <td>0</td>\n      <td>0</td>\n      <td>2000000.0</td>\n      <td>...</td>\n      <td>0.0</td>\n      <td>0.0</td>\n      <td>0.0</td>\n      <td>0</td>\n      <td>0</td>\n      <td>0</td>\n      <td>0</td>\n      <td>0</td>\n      <td>0</td>\n      <td>0</td>\n    </tr>\n  </tbody>\n</table>\n<p>5 rows \u00d7 4992 columns</p>\n</div>",
                        "text/plain": "       target  48df886f9  0deb4b6a8  34b15f335  a8cb14b00  2f0771a37  \\\n0  38000000.0        0.0          0        0.0          0          0   \n1    600000.0        0.0          0        0.0          0          0   \n2  10000000.0        0.0          0        0.0          0          0   \n3   2000000.0        0.0          0        0.0          0          0   \n4  14400000.0        0.0          0        0.0          0          0   \n\n   30347e683  d08d1fbe3  6ee66e115  20aa07010  ...  3ecc09859  9281abeea  \\\n0          0          0          0        0.0  ...        0.0        0.0   \n1          0          0          0  2200000.0  ...        0.0        0.0   \n2          0          0          0        0.0  ...        0.0        0.0   \n3          0          0          0        0.0  ...        0.0        0.0   \n4          0          0          0  2000000.0  ...        0.0        0.0   \n\n   8675bec0b  3a13ed79a  f677d4d13  71b203550  137efaa80  fb36b89d9  \\\n0        0.0          0          0          0          0          0   \n1        0.0          0          0          0          0          0   \n2        0.0          0          0          0          0          0   \n3        0.0          0          0          0          0          0   \n4        0.0          0          0          0          0          0   \n\n   7e293fbaf  9fc776466  \n0          0          0  \n1          0          0  \n2          0          0  \n3          0          0  \n4          0          0  \n\n[5 rows x 4992 columns]"
                    },
                    "execution_count": 10,
                    "metadata": {},
                    "output_type": "execute_result"
                }
            ],
            "source": "df = data.drop([\"ID\"], axis=1)\ndf.head()"
        },
        {
            "cell_type": "code",
            "execution_count": null,
            "metadata": {},
            "outputs": [],
            "source": ""
        },
        {
            "cell_type": "markdown",
            "metadata": {},
            "source": "### 1.1 Data vizualisation\n\nLet take a look at the target distribution now. "
        },
        {
            "cell_type": "code",
            "execution_count": 42,
            "metadata": {},
            "outputs": [
                {
                    "data": {
                        "image/png": "[encoded data removed]",
                        "text/plain": "<Figure size 432x288 with 1 Axes>"
                    },
                    "metadata": {
                        "needs_background": "light"
                    },
                    "output_type": "display_data"
                }
            ],
            "source": "#target distribution\nplt.title(\"Target Distribution\")\nplt.hist(df[\"target\"], label='Target', histtype='step', color='r', alpha=1.0, density=1)\nplt.xlabel(\"Target\")\nplt.ylabel(\"Number of events\")\nplt.legend()\nplt.grid()\nplt.savefig(\"images/target_distribution.png\")\nplt.show()"
        },
        {
            "cell_type": "markdown",
            "metadata": {},
            "source": "From the plot above, we noticed that target is a right tail on the right hand side, so we talk about positive skew. We will need to transform it using log transform or other method of transformation. "
        },
        {
            "cell_type": "code",
            "execution_count": null,
            "metadata": {},
            "outputs": [],
            "source": ""
        },
        {
            "cell_type": "markdown",
            "metadata": {},
            "source": "### 1.2 Feature Engineering\n\n#### 1.2.1. Pearson method\n\nIn this method, we filter and take only the subset of relevant features. The filtering is done using Pearson correlation"
        },
        {
            "cell_type": "code",
            "execution_count": 11,
            "metadata": {},
            "outputs": [],
            "source": "cor=df.corr()"
        },
        {
            "cell_type": "code",
            "execution_count": null,
            "metadata": {},
            "outputs": [],
            "source": "# Evaluating correlation  using Pearson Method\nplt.figure(figsize=(20,15))\nsns.heatmap(cor, annot=True, cmap=plt.cm.Reds)\nplt.show()"
        },
        {
            "cell_type": "code",
            "execution_count": 12,
            "metadata": {},
            "outputs": [
                {
                    "data": {
                        "text/plain": "target    1.0\nName: target, dtype: float64"
                    },
                    "execution_count": 12,
                    "metadata": {},
                    "output_type": "execute_result"
                }
            ],
            "source": "#correlation with the target\n\ncor_target = abs(cor[\"target\"])\n\n#selecting relevant features\n\nrelevant_features = cor_target[cor_target>0.5]\nrelevant_features"
        },
        {
            "cell_type": "markdown",
            "metadata": {},
            "source": "#### Note\n\nNone of features are higly correlated. This strategy does not provide features to remove."
        },
        {
            "cell_type": "code",
            "execution_count": 13,
            "metadata": {},
            "outputs": [],
            "source": "#Let splitting the data into features and target\n\nfeatures = df.drop([\"target\"], axis=1)\ntarget = df[\"target\"]"
        },
        {
            "cell_type": "code",
            "execution_count": null,
            "metadata": {},
            "outputs": [],
            "source": ""
        },
        {
            "cell_type": "markdown",
            "metadata": {},
            "source": "#### 1.2.2 Wrapper Method\n\nIn this method, we will use an algorithm select features based on performance of our algorithm. We have two method, the backward \nelimination and the RFE. In this notebook, we use only the backward elimination"
        },
        {
            "cell_type": "markdown",
            "metadata": {},
            "source": "#### 2.1 Backward Elimination\n\nIn this method, we fit the model with all features and select iteratively the ones will best performance by removing the ones with worst performance, using the p_value criteria. "
        },
        {
            "cell_type": "code",
            "execution_count": 14,
            "metadata": {},
            "outputs": [],
            "source": "#This is mandatory for sm.OLS model\nX = sm.add_constant(features)"
        },
        {
            "cell_type": "code",
            "execution_count": 15,
            "metadata": {},
            "outputs": [],
            "source": "sm_model = sm.OLS(target, X).fit()"
        },
        {
            "cell_type": "code",
            "execution_count": 16,
            "metadata": {},
            "outputs": [],
            "source": "model_pvalues=sm_model.pvalues"
        },
        {
            "cell_type": "code",
            "execution_count": null,
            "metadata": {},
            "outputs": [],
            "source": ""
        },
        {
            "cell_type": "code",
            "execution_count": 17,
            "metadata": {},
            "outputs": [
                {
                    "data": {
                        "text/plain": "const        0.055516\n48df886f9    0.516021\n0deb4b6a8    0.570973\n34b15f335    0.595245\na8cb14b00    0.521111\n2f0771a37    0.531142\n30347e683    0.516385\nd08d1fbe3    0.524309\n6ee66e115    0.559255\n20aa07010    0.512821\ndtype: float64"
                    },
                    "execution_count": 17,
                    "metadata": {},
                    "output_type": "execute_result"
                }
            ],
            "source": "pvalues10=model_pvalues.head(10)\npvalues10"
        },
        {
            "cell_type": "markdown",
            "metadata": {},
            "source": "As we can see some of have highest pvalue. Let remove those features and build the model again."
        },
        {
            "cell_type": "code",
            "execution_count": 34,
            "metadata": {},
            "outputs": [],
            "source": "relevant_features_BE=model_pvalues.loc[model_pvalues.values > 0.05]"
        },
        {
            "cell_type": "code",
            "execution_count": 35,
            "metadata": {},
            "outputs": [],
            "source": "relevant_features=list(relevant_features_BE.index)"
        },
        {
            "cell_type": "code",
            "execution_count": 36,
            "metadata": {},
            "outputs": [],
            "source": "relevant_features.remove(\"const\")"
        },
        {
            "cell_type": "markdown",
            "metadata": {},
            "source": "### Note\n\nThe selected features will be used for building the model and comparing with original data. "
        },
        {
            "cell_type": "markdown",
            "metadata": {},
            "source": "#### 1.2.3. Embedded Method\n\nEmbedded methods have been recently proposed that try to combine the advantages of both previous methods.\nBecause of time consuming and performance of our computer we are not able to perform it. "
        },
        {
            "cell_type": "markdown",
            "metadata": {},
            "source": " # 2. Data Exploration: simple descriptive statistics\n \n From the work above, We have two kind of data for building the prediction model in this notebook. First, we will use the data with selected features using the methods above and secondly we will use data without removing any features. Then we will compare the result. Therefore we have two dataset"
        },
        {
            "cell_type": "markdown",
            "metadata": {},
            "source": "#### 2.1 Overview of dataset"
        },
        {
            "cell_type": "code",
            "execution_count": 43,
            "metadata": {},
            "outputs": [],
            "source": "df1 = df.drop(relevant_features, axis=1)\ndf2 = df.copy()"
        },
        {
            "cell_type": "code",
            "execution_count": 44,
            "metadata": {},
            "outputs": [
                {
                    "data": {
                        "text/html": "<div>\n<style scoped>\n    .dataframe tbody tr th:only-of-type {\n        vertical-align: middle;\n    }\n\n    .dataframe tbody tr th {\n        vertical-align: top;\n    }\n\n    .dataframe thead th {\n        text-align: right;\n    }\n</style>\n<table border=\"1\" class=\"dataframe\">\n  <thead>\n    <tr style=\"text-align: right;\">\n      <th></th>\n      <th>target</th>\n      <th>0f8d7b98e</th>\n      <th>99cc87fd7</th>\n      <th>280898a2f</th>\n      <th>d9db07d68</th>\n      <th>07746dcda</th>\n      <th>1c6c0ffb1</th>\n      <th>899dbe405</th>\n      <th>0f2b86f4a</th>\n      <th>e5649663e</th>\n      <th>...</th>\n      <th>a8e562e8e</th>\n      <th>eb6bb7ce1</th>\n      <th>5beff147e</th>\n      <th>52b347cdc</th>\n      <th>4600aadcf</th>\n      <th>6fa0b9dab</th>\n      <th>43d70cc4d</th>\n      <th>408021ef8</th>\n      <th>e29d22b59</th>\n      <th>2a1f6c7f9</th>\n    </tr>\n  </thead>\n  <tbody>\n    <tr>\n      <th>0</th>\n      <td>38000000.0</td>\n      <td>0.0</td>\n      <td>0.0</td>\n      <td>0.0</td>\n      <td>0.0</td>\n      <td>0.0</td>\n      <td>0.0</td>\n      <td>4600000.0</td>\n      <td>0.0</td>\n      <td>0</td>\n      <td>...</td>\n      <td>0</td>\n      <td>0</td>\n      <td>0</td>\n      <td>0</td>\n      <td>0</td>\n      <td>0</td>\n      <td>0</td>\n      <td>0</td>\n      <td>0</td>\n      <td>0</td>\n    </tr>\n    <tr>\n      <th>1</th>\n      <td>600000.0</td>\n      <td>0.0</td>\n      <td>0.0</td>\n      <td>0.0</td>\n      <td>0.0</td>\n      <td>0.0</td>\n      <td>0.0</td>\n      <td>0.0</td>\n      <td>0.0</td>\n      <td>0</td>\n      <td>...</td>\n      <td>0</td>\n      <td>0</td>\n      <td>0</td>\n      <td>0</td>\n      <td>0</td>\n      <td>0</td>\n      <td>0</td>\n      <td>0</td>\n      <td>0</td>\n      <td>0</td>\n    </tr>\n    <tr>\n      <th>2</th>\n      <td>10000000.0</td>\n      <td>0.0</td>\n      <td>0.0</td>\n      <td>0.0</td>\n      <td>0.0</td>\n      <td>0.0</td>\n      <td>0.0</td>\n      <td>0.0</td>\n      <td>0.0</td>\n      <td>0</td>\n      <td>...</td>\n      <td>0</td>\n      <td>0</td>\n      <td>0</td>\n      <td>0</td>\n      <td>0</td>\n      <td>0</td>\n      <td>0</td>\n      <td>0</td>\n      <td>0</td>\n      <td>0</td>\n    </tr>\n    <tr>\n      <th>3</th>\n      <td>2000000.0</td>\n      <td>0.0</td>\n      <td>0.0</td>\n      <td>0.0</td>\n      <td>0.0</td>\n      <td>0.0</td>\n      <td>0.0</td>\n      <td>0.0</td>\n      <td>0.0</td>\n      <td>0</td>\n      <td>...</td>\n      <td>0</td>\n      <td>0</td>\n      <td>0</td>\n      <td>0</td>\n      <td>0</td>\n      <td>0</td>\n      <td>0</td>\n      <td>0</td>\n      <td>0</td>\n      <td>0</td>\n    </tr>\n    <tr>\n      <th>4</th>\n      <td>14400000.0</td>\n      <td>0.0</td>\n      <td>0.0</td>\n      <td>0.0</td>\n      <td>0.0</td>\n      <td>0.0</td>\n      <td>0.0</td>\n      <td>0.0</td>\n      <td>0.0</td>\n      <td>0</td>\n      <td>...</td>\n      <td>0</td>\n      <td>0</td>\n      <td>0</td>\n      <td>0</td>\n      <td>0</td>\n      <td>0</td>\n      <td>0</td>\n      <td>0</td>\n      <td>0</td>\n      <td>0</td>\n    </tr>\n  </tbody>\n</table>\n<p>5 rows \u00d7 40 columns</p>\n</div>",
                        "text/plain": "       target  0f8d7b98e  99cc87fd7  280898a2f  d9db07d68  07746dcda  \\\n0  38000000.0        0.0        0.0        0.0        0.0        0.0   \n1    600000.0        0.0        0.0        0.0        0.0        0.0   \n2  10000000.0        0.0        0.0        0.0        0.0        0.0   \n3   2000000.0        0.0        0.0        0.0        0.0        0.0   \n4  14400000.0        0.0        0.0        0.0        0.0        0.0   \n\n   1c6c0ffb1  899dbe405  0f2b86f4a  e5649663e  ...  a8e562e8e  eb6bb7ce1  \\\n0        0.0  4600000.0        0.0          0  ...          0          0   \n1        0.0        0.0        0.0          0  ...          0          0   \n2        0.0        0.0        0.0          0  ...          0          0   \n3        0.0        0.0        0.0          0  ...          0          0   \n4        0.0        0.0        0.0          0  ...          0          0   \n\n   5beff147e  52b347cdc  4600aadcf  6fa0b9dab  43d70cc4d  408021ef8  \\\n0          0          0          0          0          0          0   \n1          0          0          0          0          0          0   \n2          0          0          0          0          0          0   \n3          0          0          0          0          0          0   \n4          0          0          0          0          0          0   \n\n   e29d22b59  2a1f6c7f9  \n0          0          0  \n1          0          0  \n2          0          0  \n3          0          0  \n4          0          0  \n\n[5 rows x 40 columns]"
                    },
                    "execution_count": 44,
                    "metadata": {},
                    "output_type": "execute_result"
                }
            ],
            "source": "df1.head()"
        },
        {
            "cell_type": "code",
            "execution_count": 51,
            "metadata": {},
            "outputs": [
                {
                    "data": {
                        "text/html": "<div>\n<style scoped>\n    .dataframe tbody tr th:only-of-type {\n        vertical-align: middle;\n    }\n\n    .dataframe tbody tr th {\n        vertical-align: top;\n    }\n\n    .dataframe thead th {\n        text-align: right;\n    }\n</style>\n<table border=\"1\" class=\"dataframe\">\n  <thead>\n    <tr style=\"text-align: right;\">\n      <th></th>\n      <th>target</th>\n      <th>48df886f9</th>\n      <th>0deb4b6a8</th>\n      <th>34b15f335</th>\n      <th>a8cb14b00</th>\n      <th>2f0771a37</th>\n      <th>30347e683</th>\n      <th>d08d1fbe3</th>\n      <th>6ee66e115</th>\n      <th>20aa07010</th>\n      <th>...</th>\n      <th>3ecc09859</th>\n      <th>9281abeea</th>\n      <th>8675bec0b</th>\n      <th>3a13ed79a</th>\n      <th>f677d4d13</th>\n      <th>71b203550</th>\n      <th>137efaa80</th>\n      <th>fb36b89d9</th>\n      <th>7e293fbaf</th>\n      <th>9fc776466</th>\n    </tr>\n  </thead>\n  <tbody>\n    <tr>\n      <th>0</th>\n      <td>38000000.0</td>\n      <td>0.0</td>\n      <td>0</td>\n      <td>0.0</td>\n      <td>0</td>\n      <td>0</td>\n      <td>0</td>\n      <td>0</td>\n      <td>0</td>\n      <td>0.0</td>\n      <td>...</td>\n      <td>0.0</td>\n      <td>0.0</td>\n      <td>0.0</td>\n      <td>0</td>\n      <td>0</td>\n      <td>0</td>\n      <td>0</td>\n      <td>0</td>\n      <td>0</td>\n      <td>0</td>\n    </tr>\n    <tr>\n      <th>1</th>\n      <td>600000.0</td>\n      <td>0.0</td>\n      <td>0</td>\n      <td>0.0</td>\n      <td>0</td>\n      <td>0</td>\n      <td>0</td>\n      <td>0</td>\n      <td>0</td>\n      <td>2200000.0</td>\n      <td>...</td>\n      <td>0.0</td>\n      <td>0.0</td>\n      <td>0.0</td>\n      <td>0</td>\n      <td>0</td>\n      <td>0</td>\n      <td>0</td>\n      <td>0</td>\n      <td>0</td>\n      <td>0</td>\n    </tr>\n    <tr>\n      <th>2</th>\n      <td>10000000.0</td>\n      <td>0.0</td>\n      <td>0</td>\n      <td>0.0</td>\n      <td>0</td>\n      <td>0</td>\n      <td>0</td>\n      <td>0</td>\n      <td>0</td>\n      <td>0.0</td>\n      <td>...</td>\n      <td>0.0</td>\n      <td>0.0</td>\n      <td>0.0</td>\n      <td>0</td>\n      <td>0</td>\n      <td>0</td>\n      <td>0</td>\n      <td>0</td>\n      <td>0</td>\n      <td>0</td>\n    </tr>\n    <tr>\n      <th>3</th>\n      <td>2000000.0</td>\n      <td>0.0</td>\n      <td>0</td>\n      <td>0.0</td>\n      <td>0</td>\n      <td>0</td>\n      <td>0</td>\n      <td>0</td>\n      <td>0</td>\n      <td>0.0</td>\n      <td>...</td>\n      <td>0.0</td>\n      <td>0.0</td>\n      <td>0.0</td>\n      <td>0</td>\n      <td>0</td>\n      <td>0</td>\n      <td>0</td>\n      <td>0</td>\n      <td>0</td>\n      <td>0</td>\n    </tr>\n    <tr>\n      <th>4</th>\n      <td>14400000.0</td>\n      <td>0.0</td>\n      <td>0</td>\n      <td>0.0</td>\n      <td>0</td>\n      <td>0</td>\n      <td>0</td>\n      <td>0</td>\n      <td>0</td>\n      <td>2000000.0</td>\n      <td>...</td>\n      <td>0.0</td>\n      <td>0.0</td>\n      <td>0.0</td>\n      <td>0</td>\n      <td>0</td>\n      <td>0</td>\n      <td>0</td>\n      <td>0</td>\n      <td>0</td>\n      <td>0</td>\n    </tr>\n  </tbody>\n</table>\n<p>5 rows \u00d7 4992 columns</p>\n</div>",
                        "text/plain": "       target  48df886f9  0deb4b6a8  34b15f335  a8cb14b00  2f0771a37  \\\n0  38000000.0        0.0          0        0.0          0          0   \n1    600000.0        0.0          0        0.0          0          0   \n2  10000000.0        0.0          0        0.0          0          0   \n3   2000000.0        0.0          0        0.0          0          0   \n4  14400000.0        0.0          0        0.0          0          0   \n\n   30347e683  d08d1fbe3  6ee66e115  20aa07010  ...  3ecc09859  9281abeea  \\\n0          0          0          0        0.0  ...        0.0        0.0   \n1          0          0          0  2200000.0  ...        0.0        0.0   \n2          0          0          0        0.0  ...        0.0        0.0   \n3          0          0          0        0.0  ...        0.0        0.0   \n4          0          0          0  2000000.0  ...        0.0        0.0   \n\n   8675bec0b  3a13ed79a  f677d4d13  71b203550  137efaa80  fb36b89d9  \\\n0        0.0          0          0          0          0          0   \n1        0.0          0          0          0          0          0   \n2        0.0          0          0          0          0          0   \n3        0.0          0          0          0          0          0   \n4        0.0          0          0          0          0          0   \n\n   7e293fbaf  9fc776466  \n0          0          0  \n1          0          0  \n2          0          0  \n3          0          0  \n4          0          0  \n\n[5 rows x 4992 columns]"
                    },
                    "execution_count": 51,
                    "metadata": {},
                    "output_type": "execute_result"
                }
            ],
            "source": "df2.head()"
        },
        {
            "cell_type": "markdown",
            "metadata": {},
            "source": "#### 2.2  Simple Statistic Descriptive"
        },
        {
            "cell_type": "code",
            "execution_count": 15,
            "metadata": {},
            "outputs": [
                {
                    "data": {
                        "text/html": "<div>\n<style scoped>\n    .dataframe tbody tr th:only-of-type {\n        vertical-align: middle;\n    }\n\n    .dataframe tbody tr th {\n        vertical-align: top;\n    }\n\n    .dataframe thead th {\n        text-align: right;\n    }\n</style>\n<table border=\"1\" class=\"dataframe\">\n  <thead>\n    <tr style=\"text-align: right;\">\n      <th></th>\n      <th>target</th>\n      <th>0f8d7b98e</th>\n      <th>99cc87fd7</th>\n      <th>280898a2f</th>\n      <th>d9db07d68</th>\n      <th>07746dcda</th>\n      <th>1c6c0ffb1</th>\n      <th>899dbe405</th>\n      <th>0f2b86f4a</th>\n      <th>e5649663e</th>\n      <th>...</th>\n      <th>a8e562e8e</th>\n      <th>eb6bb7ce1</th>\n      <th>5beff147e</th>\n      <th>52b347cdc</th>\n      <th>4600aadcf</th>\n      <th>6fa0b9dab</th>\n      <th>43d70cc4d</th>\n      <th>408021ef8</th>\n      <th>e29d22b59</th>\n      <th>2a1f6c7f9</th>\n    </tr>\n  </thead>\n  <tbody>\n    <tr>\n      <th>count</th>\n      <td>4.459000e+03</td>\n      <td>4.459000e+03</td>\n      <td>4.459000e+03</td>\n      <td>4.459000e+03</td>\n      <td>4.459000e+03</td>\n      <td>4.459000e+03</td>\n      <td>4.459000e+03</td>\n      <td>4.459000e+03</td>\n      <td>4.459000e+03</td>\n      <td>4459.0</td>\n      <td>...</td>\n      <td>4459.0</td>\n      <td>4459.0</td>\n      <td>4459.0</td>\n      <td>4459.0</td>\n      <td>4459.0</td>\n      <td>4459.0</td>\n      <td>4459.0</td>\n      <td>4459.0</td>\n      <td>4459.0</td>\n      <td>4.459000e+03</td>\n    </tr>\n    <tr>\n      <th>mean</th>\n      <td>5.944923e+06</td>\n      <td>5.550016e+05</td>\n      <td>5.056794e+05</td>\n      <td>2.230349e+05</td>\n      <td>4.880371e+05</td>\n      <td>4.031096e+05</td>\n      <td>1.941118e+05</td>\n      <td>3.905168e+05</td>\n      <td>2.189097e+05</td>\n      <td>0.0</td>\n      <td>...</td>\n      <td>0.0</td>\n      <td>0.0</td>\n      <td>0.0</td>\n      <td>0.0</td>\n      <td>0.0</td>\n      <td>0.0</td>\n      <td>0.0</td>\n      <td>0.0</td>\n      <td>0.0</td>\n      <td>2.377396e+05</td>\n    </tr>\n    <tr>\n      <th>std</th>\n      <td>8.234312e+06</td>\n      <td>3.835310e+06</td>\n      <td>3.948264e+06</td>\n      <td>2.724169e+06</td>\n      <td>8.723407e+06</td>\n      <td>3.080225e+06</td>\n      <td>1.752792e+06</td>\n      <td>3.138749e+06</td>\n      <td>2.403078e+06</td>\n      <td>0.0</td>\n      <td>...</td>\n      <td>0.0</td>\n      <td>0.0</td>\n      <td>0.0</td>\n      <td>0.0</td>\n      <td>0.0</td>\n      <td>0.0</td>\n      <td>0.0</td>\n      <td>0.0</td>\n      <td>0.0</td>\n      <td>4.109065e+06</td>\n    </tr>\n    <tr>\n      <th>min</th>\n      <td>3.000000e+04</td>\n      <td>0.000000e+00</td>\n      <td>0.000000e+00</td>\n      <td>0.000000e+00</td>\n      <td>0.000000e+00</td>\n      <td>0.000000e+00</td>\n      <td>0.000000e+00</td>\n      <td>0.000000e+00</td>\n      <td>0.000000e+00</td>\n      <td>0.0</td>\n      <td>...</td>\n      <td>0.0</td>\n      <td>0.0</td>\n      <td>0.0</td>\n      <td>0.0</td>\n      <td>0.0</td>\n      <td>0.0</td>\n      <td>0.0</td>\n      <td>0.0</td>\n      <td>0.0</td>\n      <td>0.000000e+00</td>\n    </tr>\n    <tr>\n      <th>25%</th>\n      <td>6.000000e+05</td>\n      <td>0.000000e+00</td>\n      <td>0.000000e+00</td>\n      <td>0.000000e+00</td>\n      <td>0.000000e+00</td>\n      <td>0.000000e+00</td>\n      <td>0.000000e+00</td>\n      <td>0.000000e+00</td>\n      <td>0.000000e+00</td>\n      <td>0.0</td>\n      <td>...</td>\n      <td>0.0</td>\n      <td>0.0</td>\n      <td>0.0</td>\n      <td>0.0</td>\n      <td>0.0</td>\n      <td>0.0</td>\n      <td>0.0</td>\n      <td>0.0</td>\n      <td>0.0</td>\n      <td>0.000000e+00</td>\n    </tr>\n    <tr>\n      <th>50%</th>\n      <td>2.260000e+06</td>\n      <td>0.000000e+00</td>\n      <td>0.000000e+00</td>\n      <td>0.000000e+00</td>\n      <td>0.000000e+00</td>\n      <td>0.000000e+00</td>\n      <td>0.000000e+00</td>\n      <td>0.000000e+00</td>\n      <td>0.000000e+00</td>\n      <td>0.0</td>\n      <td>...</td>\n      <td>0.0</td>\n      <td>0.0</td>\n      <td>0.0</td>\n      <td>0.0</td>\n      <td>0.0</td>\n      <td>0.0</td>\n      <td>0.0</td>\n      <td>0.0</td>\n      <td>0.0</td>\n      <td>0.000000e+00</td>\n    </tr>\n    <tr>\n      <th>75%</th>\n      <td>8.000000e+06</td>\n      <td>0.000000e+00</td>\n      <td>0.000000e+00</td>\n      <td>0.000000e+00</td>\n      <td>0.000000e+00</td>\n      <td>0.000000e+00</td>\n      <td>0.000000e+00</td>\n      <td>0.000000e+00</td>\n      <td>0.000000e+00</td>\n      <td>0.0</td>\n      <td>...</td>\n      <td>0.0</td>\n      <td>0.0</td>\n      <td>0.0</td>\n      <td>0.0</td>\n      <td>0.0</td>\n      <td>0.0</td>\n      <td>0.0</td>\n      <td>0.0</td>\n      <td>0.0</td>\n      <td>0.000000e+00</td>\n    </tr>\n    <tr>\n      <th>max</th>\n      <td>4.000000e+07</td>\n      <td>9.400000e+07</td>\n      <td>1.300000e+08</td>\n      <td>1.108100e+08</td>\n      <td>2.800000e+08</td>\n      <td>1.300000e+08</td>\n      <td>4.000000e+07</td>\n      <td>1.000000e+08</td>\n      <td>9.980000e+07</td>\n      <td>0.0</td>\n      <td>...</td>\n      <td>0.0</td>\n      <td>0.0</td>\n      <td>0.0</td>\n      <td>0.0</td>\n      <td>0.0</td>\n      <td>0.0</td>\n      <td>0.0</td>\n      <td>0.0</td>\n      <td>0.0</td>\n      <td>1.500000e+08</td>\n    </tr>\n  </tbody>\n</table>\n<p>8 rows \u00d7 40 columns</p>\n</div>",
                        "text/plain": "             target     0f8d7b98e     99cc87fd7     280898a2f     d9db07d68  \\\ncount  4.459000e+03  4.459000e+03  4.459000e+03  4.459000e+03  4.459000e+03   \nmean   5.944923e+06  5.550016e+05  5.056794e+05  2.230349e+05  4.880371e+05   \nstd    8.234312e+06  3.835310e+06  3.948264e+06  2.724169e+06  8.723407e+06   \nmin    3.000000e+04  0.000000e+00  0.000000e+00  0.000000e+00  0.000000e+00   \n25%    6.000000e+05  0.000000e+00  0.000000e+00  0.000000e+00  0.000000e+00   \n50%    2.260000e+06  0.000000e+00  0.000000e+00  0.000000e+00  0.000000e+00   \n75%    8.000000e+06  0.000000e+00  0.000000e+00  0.000000e+00  0.000000e+00   \nmax    4.000000e+07  9.400000e+07  1.300000e+08  1.108100e+08  2.800000e+08   \n\n          07746dcda     1c6c0ffb1     899dbe405     0f2b86f4a  e5649663e  ...  \\\ncount  4.459000e+03  4.459000e+03  4.459000e+03  4.459000e+03     4459.0  ...   \nmean   4.031096e+05  1.941118e+05  3.905168e+05  2.189097e+05        0.0  ...   \nstd    3.080225e+06  1.752792e+06  3.138749e+06  2.403078e+06        0.0  ...   \nmin    0.000000e+00  0.000000e+00  0.000000e+00  0.000000e+00        0.0  ...   \n25%    0.000000e+00  0.000000e+00  0.000000e+00  0.000000e+00        0.0  ...   \n50%    0.000000e+00  0.000000e+00  0.000000e+00  0.000000e+00        0.0  ...   \n75%    0.000000e+00  0.000000e+00  0.000000e+00  0.000000e+00        0.0  ...   \nmax    1.300000e+08  4.000000e+07  1.000000e+08  9.980000e+07        0.0  ...   \n\n       a8e562e8e  eb6bb7ce1  5beff147e  52b347cdc  4600aadcf  6fa0b9dab  \\\ncount     4459.0     4459.0     4459.0     4459.0     4459.0     4459.0   \nmean         0.0        0.0        0.0        0.0        0.0        0.0   \nstd          0.0        0.0        0.0        0.0        0.0        0.0   \nmin          0.0        0.0        0.0        0.0        0.0        0.0   \n25%          0.0        0.0        0.0        0.0        0.0        0.0   \n50%          0.0        0.0        0.0        0.0        0.0        0.0   \n75%          0.0        0.0        0.0        0.0        0.0        0.0   \nmax          0.0        0.0        0.0        0.0        0.0        0.0   \n\n       43d70cc4d  408021ef8  e29d22b59     2a1f6c7f9  \ncount     4459.0     4459.0     4459.0  4.459000e+03  \nmean         0.0        0.0        0.0  2.377396e+05  \nstd          0.0        0.0        0.0  4.109065e+06  \nmin          0.0        0.0        0.0  0.000000e+00  \n25%          0.0        0.0        0.0  0.000000e+00  \n50%          0.0        0.0        0.0  0.000000e+00  \n75%          0.0        0.0        0.0  0.000000e+00  \nmax          0.0        0.0        0.0  1.500000e+08  \n\n[8 rows x 40 columns]"
                    },
                    "execution_count": 15,
                    "metadata": {},
                    "output_type": "execute_result"
                }
            ],
            "source": "df1.describe()"
        },
        {
            "cell_type": "code",
            "execution_count": 16,
            "metadata": {},
            "outputs": [
                {
                    "data": {
                        "text/html": "<div>\n<style scoped>\n    .dataframe tbody tr th:only-of-type {\n        vertical-align: middle;\n    }\n\n    .dataframe tbody tr th {\n        vertical-align: top;\n    }\n\n    .dataframe thead th {\n        text-align: right;\n    }\n</style>\n<table border=\"1\" class=\"dataframe\">\n  <thead>\n    <tr style=\"text-align: right;\">\n      <th></th>\n      <th>target</th>\n      <th>48df886f9</th>\n      <th>0deb4b6a8</th>\n      <th>34b15f335</th>\n      <th>a8cb14b00</th>\n      <th>2f0771a37</th>\n      <th>30347e683</th>\n      <th>d08d1fbe3</th>\n      <th>6ee66e115</th>\n      <th>20aa07010</th>\n      <th>...</th>\n      <th>3ecc09859</th>\n      <th>9281abeea</th>\n      <th>8675bec0b</th>\n      <th>3a13ed79a</th>\n      <th>f677d4d13</th>\n      <th>71b203550</th>\n      <th>137efaa80</th>\n      <th>fb36b89d9</th>\n      <th>7e293fbaf</th>\n      <th>9fc776466</th>\n    </tr>\n  </thead>\n  <tbody>\n    <tr>\n      <th>count</th>\n      <td>4.459000e+03</td>\n      <td>4.459000e+03</td>\n      <td>4.459000e+03</td>\n      <td>4.459000e+03</td>\n      <td>4.459000e+03</td>\n      <td>4.459000e+03</td>\n      <td>4.459000e+03</td>\n      <td>4.459000e+03</td>\n      <td>4.459000e+03</td>\n      <td>4.459000e+03</td>\n      <td>...</td>\n      <td>4.459000e+03</td>\n      <td>4.459000e+03</td>\n      <td>4.459000e+03</td>\n      <td>4.459000e+03</td>\n      <td>4459.000000</td>\n      <td>4.459000e+03</td>\n      <td>4.459000e+03</td>\n      <td>4.459000e+03</td>\n      <td>4.459000e+03</td>\n      <td>4.459000e+03</td>\n    </tr>\n    <tr>\n      <th>mean</th>\n      <td>5.944923e+06</td>\n      <td>1.465493e+04</td>\n      <td>1.390895e+03</td>\n      <td>2.672245e+04</td>\n      <td>4.530164e+03</td>\n      <td>2.640996e+04</td>\n      <td>3.070811e+04</td>\n      <td>1.686522e+04</td>\n      <td>4.669208e+03</td>\n      <td>2.569407e+06</td>\n      <td>...</td>\n      <td>4.676057e+05</td>\n      <td>4.446239e+05</td>\n      <td>8.056219e+05</td>\n      <td>7.812966e+05</td>\n      <td>143.529939</td>\n      <td>1.213809e+05</td>\n      <td>3.573451e+04</td>\n      <td>3.123741e+05</td>\n      <td>9.219960e+04</td>\n      <td>2.279100e+05</td>\n    </tr>\n    <tr>\n      <th>std</th>\n      <td>8.234312e+06</td>\n      <td>3.893298e+05</td>\n      <td>6.428302e+04</td>\n      <td>5.699652e+05</td>\n      <td>2.359124e+05</td>\n      <td>1.514730e+06</td>\n      <td>5.770590e+05</td>\n      <td>7.512756e+05</td>\n      <td>1.879449e+05</td>\n      <td>9.610183e+06</td>\n      <td>...</td>\n      <td>4.068038e+06</td>\n      <td>4.428889e+06</td>\n      <td>4.513246e+06</td>\n      <td>6.839451e+06</td>\n      <td>9584.318507</td>\n      <td>4.720709e+06</td>\n      <td>1.614622e+06</td>\n      <td>4.318501e+06</td>\n      <td>1.635993e+06</td>\n      <td>1.811139e+06</td>\n    </tr>\n    <tr>\n      <th>min</th>\n      <td>3.000000e+04</td>\n      <td>0.000000e+00</td>\n      <td>0.000000e+00</td>\n      <td>0.000000e+00</td>\n      <td>0.000000e+00</td>\n      <td>0.000000e+00</td>\n      <td>0.000000e+00</td>\n      <td>0.000000e+00</td>\n      <td>0.000000e+00</td>\n      <td>0.000000e+00</td>\n      <td>...</td>\n      <td>0.000000e+00</td>\n      <td>0.000000e+00</td>\n      <td>0.000000e+00</td>\n      <td>0.000000e+00</td>\n      <td>0.000000</td>\n      <td>0.000000e+00</td>\n      <td>0.000000e+00</td>\n      <td>0.000000e+00</td>\n      <td>0.000000e+00</td>\n      <td>0.000000e+00</td>\n    </tr>\n    <tr>\n      <th>25%</th>\n      <td>6.000000e+05</td>\n      <td>0.000000e+00</td>\n      <td>0.000000e+00</td>\n      <td>0.000000e+00</td>\n      <td>0.000000e+00</td>\n      <td>0.000000e+00</td>\n      <td>0.000000e+00</td>\n      <td>0.000000e+00</td>\n      <td>0.000000e+00</td>\n      <td>0.000000e+00</td>\n      <td>...</td>\n      <td>0.000000e+00</td>\n      <td>0.000000e+00</td>\n      <td>0.000000e+00</td>\n      <td>0.000000e+00</td>\n      <td>0.000000</td>\n      <td>0.000000e+00</td>\n      <td>0.000000e+00</td>\n      <td>0.000000e+00</td>\n      <td>0.000000e+00</td>\n      <td>0.000000e+00</td>\n    </tr>\n    <tr>\n      <th>50%</th>\n      <td>2.260000e+06</td>\n      <td>0.000000e+00</td>\n      <td>0.000000e+00</td>\n      <td>0.000000e+00</td>\n      <td>0.000000e+00</td>\n      <td>0.000000e+00</td>\n      <td>0.000000e+00</td>\n      <td>0.000000e+00</td>\n      <td>0.000000e+00</td>\n      <td>0.000000e+00</td>\n      <td>...</td>\n      <td>0.000000e+00</td>\n      <td>0.000000e+00</td>\n      <td>0.000000e+00</td>\n      <td>0.000000e+00</td>\n      <td>0.000000</td>\n      <td>0.000000e+00</td>\n      <td>0.000000e+00</td>\n      <td>0.000000e+00</td>\n      <td>0.000000e+00</td>\n      <td>0.000000e+00</td>\n    </tr>\n    <tr>\n      <th>75%</th>\n      <td>8.000000e+06</td>\n      <td>0.000000e+00</td>\n      <td>0.000000e+00</td>\n      <td>0.000000e+00</td>\n      <td>0.000000e+00</td>\n      <td>0.000000e+00</td>\n      <td>0.000000e+00</td>\n      <td>0.000000e+00</td>\n      <td>0.000000e+00</td>\n      <td>6.000000e+05</td>\n      <td>...</td>\n      <td>0.000000e+00</td>\n      <td>0.000000e+00</td>\n      <td>0.000000e+00</td>\n      <td>0.000000e+00</td>\n      <td>0.000000</td>\n      <td>0.000000e+00</td>\n      <td>0.000000e+00</td>\n      <td>0.000000e+00</td>\n      <td>0.000000e+00</td>\n      <td>0.000000e+00</td>\n    </tr>\n    <tr>\n      <th>max</th>\n      <td>4.000000e+07</td>\n      <td>2.000000e+07</td>\n      <td>4.000000e+06</td>\n      <td>2.000000e+07</td>\n      <td>1.480000e+07</td>\n      <td>1.000000e+08</td>\n      <td>2.070800e+07</td>\n      <td>4.000000e+07</td>\n      <td>1.040000e+07</td>\n      <td>3.196120e+08</td>\n      <td>...</td>\n      <td>7.600000e+07</td>\n      <td>1.235880e+08</td>\n      <td>1.300000e+08</td>\n      <td>1.444000e+08</td>\n      <td>640000.000000</td>\n      <td>3.013120e+08</td>\n      <td>1.064200e+08</td>\n      <td>1.400000e+08</td>\n      <td>6.176800e+07</td>\n      <td>4.320000e+07</td>\n    </tr>\n  </tbody>\n</table>\n<p>8 rows \u00d7 4992 columns</p>\n</div>",
                        "text/plain": "             target     48df886f9     0deb4b6a8     34b15f335     a8cb14b00  \\\ncount  4.459000e+03  4.459000e+03  4.459000e+03  4.459000e+03  4.459000e+03   \nmean   5.944923e+06  1.465493e+04  1.390895e+03  2.672245e+04  4.530164e+03   \nstd    8.234312e+06  3.893298e+05  6.428302e+04  5.699652e+05  2.359124e+05   \nmin    3.000000e+04  0.000000e+00  0.000000e+00  0.000000e+00  0.000000e+00   \n25%    6.000000e+05  0.000000e+00  0.000000e+00  0.000000e+00  0.000000e+00   \n50%    2.260000e+06  0.000000e+00  0.000000e+00  0.000000e+00  0.000000e+00   \n75%    8.000000e+06  0.000000e+00  0.000000e+00  0.000000e+00  0.000000e+00   \nmax    4.000000e+07  2.000000e+07  4.000000e+06  2.000000e+07  1.480000e+07   \n\n          2f0771a37     30347e683     d08d1fbe3     6ee66e115     20aa07010  \\\ncount  4.459000e+03  4.459000e+03  4.459000e+03  4.459000e+03  4.459000e+03   \nmean   2.640996e+04  3.070811e+04  1.686522e+04  4.669208e+03  2.569407e+06   \nstd    1.514730e+06  5.770590e+05  7.512756e+05  1.879449e+05  9.610183e+06   \nmin    0.000000e+00  0.000000e+00  0.000000e+00  0.000000e+00  0.000000e+00   \n25%    0.000000e+00  0.000000e+00  0.000000e+00  0.000000e+00  0.000000e+00   \n50%    0.000000e+00  0.000000e+00  0.000000e+00  0.000000e+00  0.000000e+00   \n75%    0.000000e+00  0.000000e+00  0.000000e+00  0.000000e+00  6.000000e+05   \nmax    1.000000e+08  2.070800e+07  4.000000e+07  1.040000e+07  3.196120e+08   \n\n       ...     3ecc09859     9281abeea     8675bec0b     3a13ed79a  \\\ncount  ...  4.459000e+03  4.459000e+03  4.459000e+03  4.459000e+03   \nmean   ...  4.676057e+05  4.446239e+05  8.056219e+05  7.812966e+05   \nstd    ...  4.068038e+06  4.428889e+06  4.513246e+06  6.839451e+06   \nmin    ...  0.000000e+00  0.000000e+00  0.000000e+00  0.000000e+00   \n25%    ...  0.000000e+00  0.000000e+00  0.000000e+00  0.000000e+00   \n50%    ...  0.000000e+00  0.000000e+00  0.000000e+00  0.000000e+00   \n75%    ...  0.000000e+00  0.000000e+00  0.000000e+00  0.000000e+00   \nmax    ...  7.600000e+07  1.235880e+08  1.300000e+08  1.444000e+08   \n\n           f677d4d13     71b203550     137efaa80     fb36b89d9     7e293fbaf  \\\ncount    4459.000000  4.459000e+03  4.459000e+03  4.459000e+03  4.459000e+03   \nmean      143.529939  1.213809e+05  3.573451e+04  3.123741e+05  9.219960e+04   \nstd      9584.318507  4.720709e+06  1.614622e+06  4.318501e+06  1.635993e+06   \nmin         0.000000  0.000000e+00  0.000000e+00  0.000000e+00  0.000000e+00   \n25%         0.000000  0.000000e+00  0.000000e+00  0.000000e+00  0.000000e+00   \n50%         0.000000  0.000000e+00  0.000000e+00  0.000000e+00  0.000000e+00   \n75%         0.000000  0.000000e+00  0.000000e+00  0.000000e+00  0.000000e+00   \nmax    640000.000000  3.013120e+08  1.064200e+08  1.400000e+08  6.176800e+07   \n\n          9fc776466  \ncount  4.459000e+03  \nmean   2.279100e+05  \nstd    1.811139e+06  \nmin    0.000000e+00  \n25%    0.000000e+00  \n50%    0.000000e+00  \n75%    0.000000e+00  \nmax    4.320000e+07  \n\n[8 rows x 4992 columns]"
                    },
                    "execution_count": 16,
                    "metadata": {},
                    "output_type": "execute_result"
                }
            ],
            "source": "df2.describe()"
        },
        {
            "cell_type": "markdown",
            "metadata": {},
            "source": "##### Note\n\nFrom discription above, we will need to normalize data around zero. So we will have two dataset, the ones normalized and without normalization, then we will compare the model performance. "
        },
        {
            "cell_type": "code",
            "execution_count": 16,
            "metadata": {},
            "outputs": [],
            "source": "features_name_df1 = list(df1.columns)\nfeatures_name_df = list(df2.columns)"
        },
        {
            "cell_type": "markdown",
            "metadata": {},
            "source": "##### Note\n\nLet recap. We have now two dataset:\n\n<ul>\n    <li>df: Containt the original dataset</li>\n    <li>df1: Containt the dataset with selected features based on Backward Eliminitation</li>\n</ul>"
        },
        {
            "cell_type": "markdown",
            "metadata": {},
            "source": "#### 2.4. Checking for missing data"
        },
        {
            "cell_type": "code",
            "execution_count": 17,
            "metadata": {},
            "outputs": [
                {
                    "data": {
                        "text/plain": "target       0.0\n0f8d7b98e    0.0\n99cc87fd7    0.0\n280898a2f    0.0\nd9db07d68    0.0\ndtype: float64"
                    },
                    "execution_count": 17,
                    "metadata": {},
                    "output_type": "execute_result"
                }
            ],
            "source": "#Count % of missing values in the data set\nmd_df1=df1.isnull().sum()/len(df1)*100\nmd_df1.head(5)"
        },
        {
            "cell_type": "code",
            "execution_count": null,
            "metadata": {},
            "outputs": [],
            "source": "#Filling missing values on original data"
        },
        {
            "cell_type": "code",
            "execution_count": 18,
            "metadata": {},
            "outputs": [
                {
                    "data": {
                        "text/html": "<div>\n<style scoped>\n    .dataframe tbody tr th:only-of-type {\n        vertical-align: middle;\n    }\n\n    .dataframe tbody tr th {\n        vertical-align: top;\n    }\n\n    .dataframe thead th {\n        text-align: right;\n    }\n</style>\n<table border=\"1\" class=\"dataframe\">\n  <thead>\n    <tr style=\"text-align: right;\">\n      <th></th>\n      <th>target</th>\n      <th>0f8d7b98e</th>\n      <th>99cc87fd7</th>\n      <th>280898a2f</th>\n      <th>d9db07d68</th>\n      <th>07746dcda</th>\n      <th>1c6c0ffb1</th>\n      <th>899dbe405</th>\n      <th>0f2b86f4a</th>\n      <th>e5649663e</th>\n      <th>...</th>\n      <th>a8e562e8e</th>\n      <th>eb6bb7ce1</th>\n      <th>5beff147e</th>\n      <th>52b347cdc</th>\n      <th>4600aadcf</th>\n      <th>6fa0b9dab</th>\n      <th>43d70cc4d</th>\n      <th>408021ef8</th>\n      <th>e29d22b59</th>\n      <th>2a1f6c7f9</th>\n    </tr>\n  </thead>\n  <tbody>\n    <tr>\n      <th>0</th>\n      <td>38000000.0</td>\n      <td>0.0</td>\n      <td>0.0</td>\n      <td>0.0</td>\n      <td>0.0</td>\n      <td>0.0</td>\n      <td>0.0</td>\n      <td>4600000.0</td>\n      <td>0.0</td>\n      <td>0</td>\n      <td>...</td>\n      <td>0</td>\n      <td>0</td>\n      <td>0</td>\n      <td>0</td>\n      <td>0</td>\n      <td>0</td>\n      <td>0</td>\n      <td>0</td>\n      <td>0</td>\n      <td>0</td>\n    </tr>\n    <tr>\n      <th>1</th>\n      <td>600000.0</td>\n      <td>0.0</td>\n      <td>0.0</td>\n      <td>0.0</td>\n      <td>0.0</td>\n      <td>0.0</td>\n      <td>0.0</td>\n      <td>0.0</td>\n      <td>0.0</td>\n      <td>0</td>\n      <td>...</td>\n      <td>0</td>\n      <td>0</td>\n      <td>0</td>\n      <td>0</td>\n      <td>0</td>\n      <td>0</td>\n      <td>0</td>\n      <td>0</td>\n      <td>0</td>\n      <td>0</td>\n    </tr>\n    <tr>\n      <th>2</th>\n      <td>10000000.0</td>\n      <td>0.0</td>\n      <td>0.0</td>\n      <td>0.0</td>\n      <td>0.0</td>\n      <td>0.0</td>\n      <td>0.0</td>\n      <td>0.0</td>\n      <td>0.0</td>\n      <td>0</td>\n      <td>...</td>\n      <td>0</td>\n      <td>0</td>\n      <td>0</td>\n      <td>0</td>\n      <td>0</td>\n      <td>0</td>\n      <td>0</td>\n      <td>0</td>\n      <td>0</td>\n      <td>0</td>\n    </tr>\n    <tr>\n      <th>3</th>\n      <td>2000000.0</td>\n      <td>0.0</td>\n      <td>0.0</td>\n      <td>0.0</td>\n      <td>0.0</td>\n      <td>0.0</td>\n      <td>0.0</td>\n      <td>0.0</td>\n      <td>0.0</td>\n      <td>0</td>\n      <td>...</td>\n      <td>0</td>\n      <td>0</td>\n      <td>0</td>\n      <td>0</td>\n      <td>0</td>\n      <td>0</td>\n      <td>0</td>\n      <td>0</td>\n      <td>0</td>\n      <td>0</td>\n    </tr>\n    <tr>\n      <th>4</th>\n      <td>14400000.0</td>\n      <td>0.0</td>\n      <td>0.0</td>\n      <td>0.0</td>\n      <td>0.0</td>\n      <td>0.0</td>\n      <td>0.0</td>\n      <td>0.0</td>\n      <td>0.0</td>\n      <td>0</td>\n      <td>...</td>\n      <td>0</td>\n      <td>0</td>\n      <td>0</td>\n      <td>0</td>\n      <td>0</td>\n      <td>0</td>\n      <td>0</td>\n      <td>0</td>\n      <td>0</td>\n      <td>0</td>\n    </tr>\n  </tbody>\n</table>\n<p>5 rows \u00d7 40 columns</p>\n</div>",
                        "text/plain": "       target  0f8d7b98e  99cc87fd7  280898a2f  d9db07d68  07746dcda  \\\n0  38000000.0        0.0        0.0        0.0        0.0        0.0   \n1    600000.0        0.0        0.0        0.0        0.0        0.0   \n2  10000000.0        0.0        0.0        0.0        0.0        0.0   \n3   2000000.0        0.0        0.0        0.0        0.0        0.0   \n4  14400000.0        0.0        0.0        0.0        0.0        0.0   \n\n   1c6c0ffb1  899dbe405  0f2b86f4a  e5649663e  ...  a8e562e8e  eb6bb7ce1  \\\n0        0.0  4600000.0        0.0          0  ...          0          0   \n1        0.0        0.0        0.0          0  ...          0          0   \n2        0.0        0.0        0.0          0  ...          0          0   \n3        0.0        0.0        0.0          0  ...          0          0   \n4        0.0        0.0        0.0          0  ...          0          0   \n\n   5beff147e  52b347cdc  4600aadcf  6fa0b9dab  43d70cc4d  408021ef8  \\\n0          0          0          0          0          0          0   \n1          0          0          0          0          0          0   \n2          0          0          0          0          0          0   \n3          0          0          0          0          0          0   \n4          0          0          0          0          0          0   \n\n   e29d22b59  2a1f6c7f9  \n0          0          0  \n1          0          0  \n2          0          0  \n3          0          0  \n4          0          0  \n\n[5 rows x 40 columns]"
                    },
                    "execution_count": 18,
                    "metadata": {},
                    "output_type": "execute_result"
                }
            ],
            "source": "clean_df1=df1[df1.columns[df1.isnull().mean() < 0.8]]\nclean_df1.head()"
        },
        {
            "cell_type": "code",
            "execution_count": 19,
            "metadata": {},
            "outputs": [
                {
                    "data": {
                        "text/html": "<div>\n<style scoped>\n    .dataframe tbody tr th:only-of-type {\n        vertical-align: middle;\n    }\n\n    .dataframe tbody tr th {\n        vertical-align: top;\n    }\n\n    .dataframe thead th {\n        text-align: right;\n    }\n</style>\n<table border=\"1\" class=\"dataframe\">\n  <thead>\n    <tr style=\"text-align: right;\">\n      <th></th>\n      <th>target</th>\n      <th>48df886f9</th>\n      <th>0deb4b6a8</th>\n      <th>34b15f335</th>\n      <th>a8cb14b00</th>\n      <th>2f0771a37</th>\n      <th>30347e683</th>\n      <th>d08d1fbe3</th>\n      <th>6ee66e115</th>\n      <th>20aa07010</th>\n      <th>...</th>\n      <th>3ecc09859</th>\n      <th>9281abeea</th>\n      <th>8675bec0b</th>\n      <th>3a13ed79a</th>\n      <th>f677d4d13</th>\n      <th>71b203550</th>\n      <th>137efaa80</th>\n      <th>fb36b89d9</th>\n      <th>7e293fbaf</th>\n      <th>9fc776466</th>\n    </tr>\n  </thead>\n  <tbody>\n    <tr>\n      <th>0</th>\n      <td>38000000.0</td>\n      <td>0.0</td>\n      <td>0</td>\n      <td>0.0</td>\n      <td>0</td>\n      <td>0</td>\n      <td>0</td>\n      <td>0</td>\n      <td>0</td>\n      <td>0.0</td>\n      <td>...</td>\n      <td>0.0</td>\n      <td>0.0</td>\n      <td>0.0</td>\n      <td>0</td>\n      <td>0</td>\n      <td>0</td>\n      <td>0</td>\n      <td>0</td>\n      <td>0</td>\n      <td>0</td>\n    </tr>\n    <tr>\n      <th>1</th>\n      <td>600000.0</td>\n      <td>0.0</td>\n      <td>0</td>\n      <td>0.0</td>\n      <td>0</td>\n      <td>0</td>\n      <td>0</td>\n      <td>0</td>\n      <td>0</td>\n      <td>2200000.0</td>\n      <td>...</td>\n      <td>0.0</td>\n      <td>0.0</td>\n      <td>0.0</td>\n      <td>0</td>\n      <td>0</td>\n      <td>0</td>\n      <td>0</td>\n      <td>0</td>\n      <td>0</td>\n      <td>0</td>\n    </tr>\n    <tr>\n      <th>2</th>\n      <td>10000000.0</td>\n      <td>0.0</td>\n      <td>0</td>\n      <td>0.0</td>\n      <td>0</td>\n      <td>0</td>\n      <td>0</td>\n      <td>0</td>\n      <td>0</td>\n      <td>0.0</td>\n      <td>...</td>\n      <td>0.0</td>\n      <td>0.0</td>\n      <td>0.0</td>\n      <td>0</td>\n      <td>0</td>\n      <td>0</td>\n      <td>0</td>\n      <td>0</td>\n      <td>0</td>\n      <td>0</td>\n    </tr>\n    <tr>\n      <th>3</th>\n      <td>2000000.0</td>\n      <td>0.0</td>\n      <td>0</td>\n      <td>0.0</td>\n      <td>0</td>\n      <td>0</td>\n      <td>0</td>\n      <td>0</td>\n      <td>0</td>\n      <td>0.0</td>\n      <td>...</td>\n      <td>0.0</td>\n      <td>0.0</td>\n      <td>0.0</td>\n      <td>0</td>\n      <td>0</td>\n      <td>0</td>\n      <td>0</td>\n      <td>0</td>\n      <td>0</td>\n      <td>0</td>\n    </tr>\n    <tr>\n      <th>4</th>\n      <td>14400000.0</td>\n      <td>0.0</td>\n      <td>0</td>\n      <td>0.0</td>\n      <td>0</td>\n      <td>0</td>\n      <td>0</td>\n      <td>0</td>\n      <td>0</td>\n      <td>2000000.0</td>\n      <td>...</td>\n      <td>0.0</td>\n      <td>0.0</td>\n      <td>0.0</td>\n      <td>0</td>\n      <td>0</td>\n      <td>0</td>\n      <td>0</td>\n      <td>0</td>\n      <td>0</td>\n      <td>0</td>\n    </tr>\n  </tbody>\n</table>\n<p>5 rows \u00d7 4992 columns</p>\n</div>",
                        "text/plain": "       target  48df886f9  0deb4b6a8  34b15f335  a8cb14b00  2f0771a37  \\\n0  38000000.0        0.0          0        0.0          0          0   \n1    600000.0        0.0          0        0.0          0          0   \n2  10000000.0        0.0          0        0.0          0          0   \n3   2000000.0        0.0          0        0.0          0          0   \n4  14400000.0        0.0          0        0.0          0          0   \n\n   30347e683  d08d1fbe3  6ee66e115  20aa07010  ...  3ecc09859  9281abeea  \\\n0          0          0          0        0.0  ...        0.0        0.0   \n1          0          0          0  2200000.0  ...        0.0        0.0   \n2          0          0          0        0.0  ...        0.0        0.0   \n3          0          0          0        0.0  ...        0.0        0.0   \n4          0          0          0  2000000.0  ...        0.0        0.0   \n\n   8675bec0b  3a13ed79a  f677d4d13  71b203550  137efaa80  fb36b89d9  \\\n0        0.0          0          0          0          0          0   \n1        0.0          0          0          0          0          0   \n2        0.0          0          0          0          0          0   \n3        0.0          0          0          0          0          0   \n4        0.0          0          0          0          0          0   \n\n   7e293fbaf  9fc776466  \n0          0          0  \n1          0          0  \n2          0          0  \n3          0          0  \n4          0          0  \n\n[5 rows x 4992 columns]"
                    },
                    "execution_count": 19,
                    "metadata": {},
                    "output_type": "execute_result"
                }
            ],
            "source": "clean_df=df[df.columns[df.isnull().mean() < 0.8]]\nclean_df.head()"
        },
        {
            "cell_type": "code",
            "execution_count": null,
            "metadata": {},
            "outputs": [],
            "source": ""
        },
        {
            "cell_type": "code",
            "execution_count": 20,
            "metadata": {},
            "outputs": [],
            "source": "clean_df1=clean_df1.fillna(0)#cleaned selected data\nclean_df=clean_df.fillna(0) #cleaned orignal data\n "
        },
        {
            "cell_type": "markdown",
            "metadata": {},
            "source": "#### 2.5 Feature transformation\n\nFrom target visualization task, we noticed the target is skewed. Let transform it using log transform. The log transformation is, arguably, the most popular among the different types of transformations used to transform skewed data to approximately conform to normality."
        },
        {
            "cell_type": "code",
            "execution_count": 22,
            "metadata": {},
            "outputs": [],
            "source": "clean_df1[\"label\"]=np.log(clean_df1[\"target\"])#cleaned selected data\nclean_df[\"label\"]=np.log(clean_df[\"target\"]) #cleaned orignal data"
        },
        {
            "cell_type": "code",
            "execution_count": 28,
            "metadata": {},
            "outputs": [
                {
                    "data": {
                        "text/plain": "count    4459.000000\nmean       14.490237\nstd         1.750951\nmin        10.308953\n25%        13.304685\n50%        14.630875\n75%        15.894952\nmax        17.504390\nName: label, dtype: float64"
                    },
                    "execution_count": 28,
                    "metadata": {},
                    "output_type": "execute_result"
                }
            ],
            "source": "clean_df1[\"label\"].describe()"
        },
        {
            "cell_type": "code",
            "execution_count": 29,
            "metadata": {},
            "outputs": [
                {
                    "data": {
                        "text/plain": "count    4459.000000\nmean       14.490237\nstd         1.750951\nmin        10.308953\n25%        13.304685\n50%        14.630875\n75%        15.894952\nmax        17.504390\nName: label, dtype: float64"
                    },
                    "execution_count": 29,
                    "metadata": {},
                    "output_type": "execute_result"
                }
            ],
            "source": "clean_df[\"label\"].describe()"
        },
        {
            "cell_type": "code",
            "execution_count": 25,
            "metadata": {},
            "outputs": [
                {
                    "data": {
                        "image/png": "[encoded data removed]",
                        "text/plain": "<Figure size 432x288 with 1 Axes>"
                    },
                    "metadata": {
                        "needs_background": "light"
                    },
                    "output_type": "display_data"
                }
            ],
            "source": "#target distribution\nplt.title(\"Log Target Distribution\")\n#plt.hist(clean_df1[\"label\"],  label='Target cleaned df1', histtype='step', color='r', alpha=1.0)\nplt.hist(clean_df[\"label\"],  label='Target', histtype='step', color='b', alpha=1.0)\nplt.xlabel(\"Bins\")\nplt.ylabel(\"Number of events\")\nplt.legend()\nplt.grid()\nplt.savefig(\"images/targets_distribution.png\")\nplt.show()\n"
        },
        {
            "cell_type": "code",
            "execution_count": 22,
            "metadata": {},
            "outputs": [],
            "source": "#Removing all target\n\ndel clean_df1[\"target\"]\ndel clean_df[\"target\"]"
        },
        {
            "cell_type": "code",
            "execution_count": 32,
            "metadata": {},
            "outputs": [
                {
                    "data": {
                        "text/html": "<div>\n<style scoped>\n    .dataframe tbody tr th:only-of-type {\n        vertical-align: middle;\n    }\n\n    .dataframe tbody tr th {\n        vertical-align: top;\n    }\n\n    .dataframe thead th {\n        text-align: right;\n    }\n</style>\n<table border=\"1\" class=\"dataframe\">\n  <thead>\n    <tr style=\"text-align: right;\">\n      <th></th>\n      <th>48df886f9</th>\n      <th>0deb4b6a8</th>\n      <th>34b15f335</th>\n      <th>a8cb14b00</th>\n      <th>2f0771a37</th>\n      <th>30347e683</th>\n      <th>d08d1fbe3</th>\n      <th>6ee66e115</th>\n      <th>20aa07010</th>\n      <th>dc5a8f1d8</th>\n      <th>...</th>\n      <th>9281abeea</th>\n      <th>8675bec0b</th>\n      <th>3a13ed79a</th>\n      <th>f677d4d13</th>\n      <th>71b203550</th>\n      <th>137efaa80</th>\n      <th>fb36b89d9</th>\n      <th>7e293fbaf</th>\n      <th>9fc776466</th>\n      <th>label</th>\n    </tr>\n  </thead>\n  <tbody>\n    <tr>\n      <th>0</th>\n      <td>0.0</td>\n      <td>0</td>\n      <td>0.0</td>\n      <td>0</td>\n      <td>0</td>\n      <td>0</td>\n      <td>0</td>\n      <td>0</td>\n      <td>0.0</td>\n      <td>0.0</td>\n      <td>...</td>\n      <td>0.0</td>\n      <td>0.0</td>\n      <td>0</td>\n      <td>0</td>\n      <td>0</td>\n      <td>0</td>\n      <td>0</td>\n      <td>0</td>\n      <td>0</td>\n      <td>17.453097</td>\n    </tr>\n    <tr>\n      <th>1</th>\n      <td>0.0</td>\n      <td>0</td>\n      <td>0.0</td>\n      <td>0</td>\n      <td>0</td>\n      <td>0</td>\n      <td>0</td>\n      <td>0</td>\n      <td>2200000.0</td>\n      <td>0.0</td>\n      <td>...</td>\n      <td>0.0</td>\n      <td>0.0</td>\n      <td>0</td>\n      <td>0</td>\n      <td>0</td>\n      <td>0</td>\n      <td>0</td>\n      <td>0</td>\n      <td>0</td>\n      <td>13.304685</td>\n    </tr>\n    <tr>\n      <th>2</th>\n      <td>0.0</td>\n      <td>0</td>\n      <td>0.0</td>\n      <td>0</td>\n      <td>0</td>\n      <td>0</td>\n      <td>0</td>\n      <td>0</td>\n      <td>0.0</td>\n      <td>0.0</td>\n      <td>...</td>\n      <td>0.0</td>\n      <td>0.0</td>\n      <td>0</td>\n      <td>0</td>\n      <td>0</td>\n      <td>0</td>\n      <td>0</td>\n      <td>0</td>\n      <td>0</td>\n      <td>16.118096</td>\n    </tr>\n    <tr>\n      <th>3</th>\n      <td>0.0</td>\n      <td>0</td>\n      <td>0.0</td>\n      <td>0</td>\n      <td>0</td>\n      <td>0</td>\n      <td>0</td>\n      <td>0</td>\n      <td>0.0</td>\n      <td>0.0</td>\n      <td>...</td>\n      <td>0.0</td>\n      <td>0.0</td>\n      <td>0</td>\n      <td>0</td>\n      <td>0</td>\n      <td>0</td>\n      <td>0</td>\n      <td>0</td>\n      <td>0</td>\n      <td>14.508658</td>\n    </tr>\n    <tr>\n      <th>4</th>\n      <td>0.0</td>\n      <td>0</td>\n      <td>0.0</td>\n      <td>0</td>\n      <td>0</td>\n      <td>0</td>\n      <td>0</td>\n      <td>0</td>\n      <td>2000000.0</td>\n      <td>0.0</td>\n      <td>...</td>\n      <td>0.0</td>\n      <td>0.0</td>\n      <td>0</td>\n      <td>0</td>\n      <td>0</td>\n      <td>0</td>\n      <td>0</td>\n      <td>0</td>\n      <td>0</td>\n      <td>16.482739</td>\n    </tr>\n  </tbody>\n</table>\n<p>5 rows \u00d7 4992 columns</p>\n</div>",
                        "text/plain": "   48df886f9  0deb4b6a8  34b15f335  a8cb14b00  2f0771a37  30347e683  \\\n0        0.0          0        0.0          0          0          0   \n1        0.0          0        0.0          0          0          0   \n2        0.0          0        0.0          0          0          0   \n3        0.0          0        0.0          0          0          0   \n4        0.0          0        0.0          0          0          0   \n\n   d08d1fbe3  6ee66e115  20aa07010  dc5a8f1d8  ...  9281abeea  8675bec0b  \\\n0          0          0        0.0        0.0  ...        0.0        0.0   \n1          0          0  2200000.0        0.0  ...        0.0        0.0   \n2          0          0        0.0        0.0  ...        0.0        0.0   \n3          0          0        0.0        0.0  ...        0.0        0.0   \n4          0          0  2000000.0        0.0  ...        0.0        0.0   \n\n   3a13ed79a  f677d4d13  71b203550  137efaa80  fb36b89d9  7e293fbaf  \\\n0          0          0          0          0          0          0   \n1          0          0          0          0          0          0   \n2          0          0          0          0          0          0   \n3          0          0          0          0          0          0   \n4          0          0          0          0          0          0   \n\n   9fc776466      label  \n0          0  17.453097  \n1          0  13.304685  \n2          0  16.118096  \n3          0  14.508658  \n4          0  16.482739  \n\n[5 rows x 4992 columns]"
                    },
                    "execution_count": 32,
                    "metadata": {},
                    "output_type": "execute_result"
                }
            ],
            "source": "clean_df.head()"
        },
        {
            "cell_type": "code",
            "execution_count": 33,
            "metadata": {},
            "outputs": [],
            "source": "#From selected features\nspark_df1 = sqlContext.createDataFrame(clean_df1)"
        },
        {
            "cell_type": "code",
            "execution_count": 35,
            "metadata": {},
            "outputs": [],
            "source": "#From original data\nspark_df = sqlContext.createDataFrame(clean_df)"
        },
        {
            "cell_type": "markdown",
            "metadata": {},
            "source": "#### 2.6 Splitting the data into training, testing, and validation sets\n\nWe'll save the data for approximately 10 % to use as a validation set after we've trained the network. We'll use this test set to make predictions.\nVectorAssembler is a transformer that combines a given list of columns into a single vector column. After splitting, we will combine all features to a single vector column."
        },
        {
            "cell_type": "code",
            "execution_count": 23,
            "metadata": {},
            "outputs": [],
            "source": "df1_features=list(clean_df1.columns) \ndf_features=list(clean_df.columns)"
        },
        {
            "cell_type": "code",
            "execution_count": 7,
            "metadata": {},
            "outputs": [],
            "source": "#From selected features"
        },
        {
            "cell_type": "code",
            "execution_count": 37,
            "metadata": {},
            "outputs": [],
            "source": "train_df1, test_df1 = spark_df1.randomSplit([0.9, 0.1], seed=12345)"
        },
        {
            "cell_type": "code",
            "execution_count": 38,
            "metadata": {},
            "outputs": [],
            "source": "vectorAssembler_df1_train = VectorAssembler(inputCols=df1_features,outputCol=\"features\")\ntrain_df1_VA = vectorAssembler_df1_train.transform(train_df1)"
        },
        {
            "cell_type": "code",
            "execution_count": 39,
            "metadata": {},
            "outputs": [],
            "source": "test_df1_VA = vectorAssembler_df1_train.transform(test_df1)"
        },
        {
            "cell_type": "code",
            "execution_count": 40,
            "metadata": {},
            "outputs": [
                {
                    "name": "stdout",
                    "output_type": "stream",
                    "text": "+------------------------------+------------------+\n|features                      |label             |\n+------------------------------+------------------+\n|(40,[39],[10.308952660644293])|10.308952660644293|\n|(40,[39],[10.308952660644293])|10.308952660644293|\n|(40,[39],[10.308952660644293])|10.308952660644293|\n|(40,[39],[10.308952660644293])|10.308952660644293|\n|(40,[39],[10.491274217438248])|10.491274217438248|\n|(40,[39],[10.596634733096073])|10.596634733096073|\n|(40,[39],[10.596634733096073])|10.596634733096073|\n|(40,[39],[10.596634733096073])|10.596634733096073|\n|(40,[39],[10.778956289890028])|10.778956289890028|\n|(40,[39],[10.819778284410283])|10.819778284410283|\n|(40,[39],[10.819778284410283])|10.819778284410283|\n|(40,[39],[10.819778284410283])|10.819778284410283|\n|(40,[39],[10.819778284410283])|10.819778284410283|\n|(40,[39],[10.819778284410283])|10.819778284410283|\n|(40,[39],[10.819778284410283])|10.819778284410283|\n|(40,[39],[10.858998997563564])|10.858998997563564|\n|(40,[39],[10.896739325546411])|10.896739325546411|\n|(40,[39],[10.933106969717286])|10.933106969717286|\n|(40,[39],[10.950806546816688])|10.950806546816688|\n|(40,[39],[11.002099841204238])|11.002099841204238|\n+------------------------------+------------------+\nonly showing top 20 rows\n\n"
                }
            ],
            "source": "train_df1_VA.select(\"features\", \"label\").show(truncate=False)"
        },
        {
            "cell_type": "code",
            "execution_count": 6,
            "metadata": {},
            "outputs": [],
            "source": "#From original data"
        },
        {
            "cell_type": "code",
            "execution_count": 41,
            "metadata": {},
            "outputs": [],
            "source": "train_df, test_df = spark_df.randomSplit([0.9, 0.1], seed=12345)"
        },
        {
            "cell_type": "code",
            "execution_count": 42,
            "metadata": {},
            "outputs": [],
            "source": "vectorAssembler_df = VectorAssembler(inputCols=df_features,outputCol=\"features\")\ntrain_df_VA = vectorAssembler_df.transform(train_df)"
        },
        {
            "cell_type": "code",
            "execution_count": 43,
            "metadata": {},
            "outputs": [],
            "source": "test_df_VA = vectorAssembler_df.transform(test_df)"
        },
        {
            "cell_type": "code",
            "execution_count": null,
            "metadata": {},
            "outputs": [],
            "source": ""
        },
        {
            "cell_type": "code",
            "execution_count": 44,
            "metadata": {},
            "outputs": [
                {
                    "name": "stdout",
                    "output_type": "stream",
                    "text": "Normalized using L^1 norm\n"
                }
            ],
            "source": "normalizer = Normalizer(inputCol=\"features\", outputCol=\"normFeatures\", p=1.0)\nl1NormData = normalizer.transform(train_df1_VA)\nprint(\"Normalized using L^1 norm\")"
        },
        {
            "cell_type": "code",
            "execution_count": 45,
            "metadata": {},
            "outputs": [],
            "source": "norm1=l1NormData.selectExpr(\"normFeatures as features\", \"label\")"
        },
        {
            "cell_type": "code",
            "execution_count": 46,
            "metadata": {},
            "outputs": [
                {
                    "name": "stdout",
                    "output_type": "stream",
                    "text": "+---------------+------------------+\n|       features|             label|\n+---------------+------------------+\n|(40,[39],[1.0])|10.308952660644293|\n|(40,[39],[1.0])|10.308952660644293|\n|(40,[39],[1.0])|10.308952660644293|\n|(40,[39],[1.0])|10.308952660644293|\n|(40,[39],[1.0])|10.491274217438248|\n|(40,[39],[1.0])|10.596634733096073|\n|(40,[39],[1.0])|10.596634733096073|\n|(40,[39],[1.0])|10.596634733096073|\n|(40,[39],[1.0])|10.778956289890028|\n|(40,[39],[1.0])|10.819778284410283|\n|(40,[39],[1.0])|10.819778284410283|\n|(40,[39],[1.0])|10.819778284410283|\n|(40,[39],[1.0])|10.819778284410283|\n|(40,[39],[1.0])|10.819778284410283|\n|(40,[39],[1.0])|10.819778284410283|\n|(40,[39],[1.0])|10.858998997563564|\n|(40,[39],[1.0])|10.896739325546411|\n|(40,[39],[1.0])|10.933106969717286|\n|(40,[39],[1.0])|10.950806546816688|\n|(40,[39],[1.0])|11.002099841204238|\n+---------------+------------------+\nonly showing top 20 rows\n\n"
                }
            ],
            "source": "norm1.show()"
        },
        {
            "cell_type": "markdown",
            "metadata": {},
            "source": "# 3. Building the model "
        },
        {
            "cell_type": "markdown",
            "metadata": {},
            "source": "### 3.1. Linear Regression"
        },
        {
            "cell_type": "code",
            "execution_count": 35,
            "metadata": {},
            "outputs": [],
            "source": "# Load training data for original data\nlr_df = LinearRegression(maxIter=10, regParam=0.3, elasticNetParam=0.8)\n\n# Fit the model\nlrModel_df = lr_df.fit(train_df_VA)"
        },
        {
            "cell_type": "code",
            "execution_count": 36,
            "metadata": {},
            "outputs": [
                {
                    "name": "stdout",
                    "output_type": "stream",
                    "text": "Coefficients: (4992,[4991],[0.8342062562320659])\nIntercept: 2.404150400875663\n"
                }
            ],
            "source": "# Print the coefficients and intercept for linear regression\nprint(\"Coefficients: %s\" % str(lrModel_df.coefficients))\nprint(\"Intercept: %s\" % str(lrModel_df.intercept))"
        },
        {
            "cell_type": "code",
            "execution_count": 37,
            "metadata": {},
            "outputs": [
                {
                    "name": "stdout",
                    "output_type": "stream",
                    "text": "numIterations: 11\nobjectiveHistory: [0.499875, 0.4490492421973485, 0.19587299668714786, 0.16371736541493837, 0.1405416470750869, 0.14014830147005627, 0.14002552535094756, 0.1399694548235901, 0.1399628933500135, 0.13996212551461895, 0.1399620356611453]\n"
                }
            ],
            "source": "# Summarize the model over the training set and print out some metrics\ntrainingSummary_df = lrModel_df.summary\nprint(\"numIterations: %d\" % trainingSummary_df.totalIterations)\nprint(\"objectiveHistory: %s\" % str(trainingSummary_df.objectiveHistory))"
        },
        {
            "cell_type": "code",
            "execution_count": 38,
            "metadata": {},
            "outputs": [
                {
                    "name": "stdout",
                    "output_type": "stream",
                    "text": "RMSE: 0.290364\nr2: 0.972512\n"
                }
            ],
            "source": "print(\"RMSE: %f\" % trainingSummary_df.rootMeanSquaredError)\nprint(\"r2: %f\" % trainingSummary_df.r2)"
        },
        {
            "cell_type": "code",
            "execution_count": 39,
            "metadata": {},
            "outputs": [],
            "source": "residuals=trainingSummary_df.residuals"
        },
        {
            "cell_type": "code",
            "execution_count": null,
            "metadata": {},
            "outputs": [],
            "source": ""
        },
        {
            "cell_type": "code",
            "execution_count": 40,
            "metadata": {},
            "outputs": [],
            "source": "# Load training data \nlr_df1 = LinearRegression(maxIter=10, regParam=0.3, elasticNetParam=0.8)\n\n# Fit the model\nlrModel_df1 = lr_df1.fit(train_df1_VA)"
        },
        {
            "cell_type": "code",
            "execution_count": 41,
            "metadata": {},
            "outputs": [
                {
                    "name": "stdout",
                    "output_type": "stream",
                    "text": "Coefficients: [0.0,0.0,0.0,0.0,0.0,0.0,0.0,0.0,0.0,0.0,0.0,0.0,0.0,0.0,0.0,0.0,0.0,0.0,0.0,0.0,0.0,0.0,0.0,0.0,0.0,0.0,0.0,0.0,0.0,0.0,0.0,0.0,0.0,0.0,0.0,0.0,0.0,0.0,0.0,0.8349761896083154]\nIntercept: 2.3900998843740995\n"
                }
            ],
            "source": "# Print the coefficients and intercept for linear regression\nprint(\"Coefficients: %s\" % str(lrModel_df1.coefficients))\nprint(\"Intercept: %s\" % str(lrModel_df1.intercept))"
        },
        {
            "cell_type": "code",
            "execution_count": 42,
            "metadata": {},
            "outputs": [
                {
                    "name": "stdout",
                    "output_type": "stream",
                    "text": "numIterations: 6\nobjectiveHistory: [0.5, 0.4261895701031709, 0.13951997010882244, 0.13950947706291023, 0.1395094766788198, 0.13950947667881178]\n"
                }
            ],
            "source": "# Summarize the model over the training set and print out some metrics\ntrainingSummary_df1 = lrModel_df1.summary\nprint(\"numIterations: %d\" % trainingSummary_df1.totalIterations)\nprint(\"objectiveHistory: %s\" % str(trainingSummary_df1.objectiveHistory))"
        },
        {
            "cell_type": "code",
            "execution_count": 43,
            "metadata": {
                "scrolled": true
            },
            "outputs": [
                {
                    "name": "stdout",
                    "output_type": "stream",
                    "text": "RMSE: 0.290099\nr2: 0.972767\n"
                }
            ],
            "source": "residuals_df1=trainingSummary_df1.residuals\nprint(\"RMSE: %f\" % trainingSummary_df1.rootMeanSquaredError)\nprint(\"r2: %f\" % trainingSummary_df1.r2)"
        },
        {
            "cell_type": "code",
            "execution_count": null,
            "metadata": {},
            "outputs": [],
            "source": ""
        },
        {
            "cell_type": "code",
            "execution_count": 84,
            "metadata": {},
            "outputs": [],
            "source": "# Load training data \nnorm_df1 = LinearRegression(maxIter=10, regParam=0.3, elasticNetParam=0.8)\n\n# Fit the model\nNorm_Model_df1 = norm_df1.fit(norm1)"
        },
        {
            "cell_type": "code",
            "execution_count": 85,
            "metadata": {},
            "outputs": [
                {
                    "name": "stdout",
                    "output_type": "stream",
                    "text": "Coefficients: [0.0,0.0,0.0,0.0,0.0,0.0,0.0,0.0,0.0,0.0,0.0,0.0,0.0,0.0,0.0,0.0,0.0,0.0,0.0,0.0,0.0,0.0,0.0,0.0,0.0,0.0,0.0,0.0,0.0,0.0,0.0,0.0,0.0,0.0,0.0,0.0,0.0,0.0,0.0,0.0]\nIntercept: 14.48336381702246\n"
                }
            ],
            "source": "# Print the coefficients and intercept for linear regression\nprint(\"Coefficients: %s\" % str(Norm_Model_df1.coefficients))\nprint(\"Intercept: %s\" % str(Norm_Model_df1.intercept))"
        },
        {
            "cell_type": "code",
            "execution_count": 86,
            "metadata": {},
            "outputs": [
                {
                    "name": "stdout",
                    "output_type": "stream",
                    "text": "numIterations: 1\nobjectiveHistory: [0.5]\n"
                }
            ],
            "source": "# Summarize the model over the training set and print out some metrics\ntrainingSummary_df1_N = Norm_Model_df1.summary\nprint(\"numIterations: %d\" % trainingSummary_df1_N.totalIterations)\nprint(\"objectiveHistory: %s\" % str(trainingSummary_df1_N.objectiveHistory))"
        },
        {
            "cell_type": "code",
            "execution_count": 87,
            "metadata": {},
            "outputs": [
                {
                    "name": "stdout",
                    "output_type": "stream",
                    "text": "RMSE: 1.757919\nr2: -0.000000\n"
                }
            ],
            "source": "residuals_df1_N=trainingSummary_df1_N.residuals\nprint(\"RMSE: %f\" % trainingSummary_df1_N.rootMeanSquaredError)\nprint(\"r2: %f\" % trainingSummary_df1_N.r2)"
        },
        {
            "cell_type": "markdown",
            "metadata": {},
            "source": "### 3.2. Gradient-boosted tree regression"
        },
        {
            "cell_type": "code",
            "execution_count": null,
            "metadata": {},
            "outputs": [],
            "source": ""
        },
        {
            "cell_type": "code",
            "execution_count": 100,
            "metadata": {},
            "outputs": [],
            "source": "# Train a GBT model on selected features.\ngbt = GBTRegressor(featuresCol=\"features\", maxIter=10)\n# Train model.  This also runs the indexer.\nmodel = gbt.fit(train_df1_VA)"
        },
        {
            "cell_type": "code",
            "execution_count": 103,
            "metadata": {},
            "outputs": [],
            "source": "# Make predictions.\npredictions = model.transform(test_df1_VA)"
        },
        {
            "cell_type": "code",
            "execution_count": 104,
            "metadata": {},
            "outputs": [
                {
                    "name": "stdout",
                    "output_type": "stream",
                    "text": "+------------------+------------------+--------------------+\n|        prediction|             label|            features|\n+------------------+------------------+--------------------+\n|10.566659505137213|10.373491181781864|(40,[39],[10.3734...|\n|10.566659505137213|10.596634733096073|(40,[39],[10.5966...|\n|11.592726554364813| 11.55214617812351|(40,[39],[11.5521...|\n|12.004255814977592|11.929989708921745|(40,[39],[11.9299...|\n|12.004255814977592| 12.01974306733868|(40,[39],[12.0197...|\n+------------------+------------------+--------------------+\nonly showing top 5 rows\n\n"
                }
            ],
            "source": "# Select example rows to display.\npredictions.select(\"prediction\", \"label\", \"features\").show(5)"
        },
        {
            "cell_type": "code",
            "execution_count": 108,
            "metadata": {},
            "outputs": [
                {
                    "name": "stdout",
                    "output_type": "stream",
                    "text": "R-squared coefficient on test data = 0.998286\nRoot Mean Squared Error (RMSE) on test data = 0.0697984\n"
                }
            ],
            "source": "# Select (prediction, true label) and compute test error\nevaluator = RegressionEvaluator(\n    labelCol=\"label\", predictionCol=\"prediction\", metricName=\"rmse\")\nrmse = evaluator.evaluate(predictions)\n# Select (prediction, true label) and compute test error\nevaluatorr2 = RegressionEvaluator(\n    labelCol=\"label\", predictionCol=\"prediction\", metricName=\"r2\")\nr2 = evaluatorr2.evaluate(predictions)\nprint(\"R-squared coefficient on test data = %g\" % r2)\nprint(\"Root Mean Squared Error (RMSE) on test data = %g\" % rmse)\n"
        },
        {
            "cell_type": "code",
            "execution_count": null,
            "metadata": {},
            "outputs": [],
            "source": ""
        },
        {
            "cell_type": "code",
            "execution_count": 109,
            "metadata": {},
            "outputs": [],
            "source": "# Train a GBT model on original data.\ngbt_O = GBTRegressor(featuresCol=\"features\", maxIter=10)\n# Train model.  This also runs the indexer.\nmodel = gbt_O.fit(train_df_VA)"
        },
        {
            "cell_type": "code",
            "execution_count": 112,
            "metadata": {},
            "outputs": [],
            "source": "# Make predictions.\npredictions_O = model.transform(test_df_VA)"
        },
        {
            "cell_type": "code",
            "execution_count": 113,
            "metadata": {
                "scrolled": true
            },
            "outputs": [
                {
                    "name": "stdout",
                    "output_type": "stream",
                    "text": "+------------------+------------------+--------------------+\n|        prediction|             label|            features|\n+------------------+------------------+--------------------+\n| 12.92703569877041| 12.89921982609012|(4992,[3373,4125,...|\n|15.614942661775947| 15.60727002719233|(4992,[2339,2565,...|\n| 13.96547815334335|  13.9108207377686|(4992,[916,2133,2...|\n| 16.81494486380302|16.811242831518264|(4992,[694,743,48...|\n|15.422626727183378|15.424948470398375|(4992,[678,974,20...|\n+------------------+------------------+--------------------+\nonly showing top 5 rows\n\n"
                }
            ],
            "source": "# Select example rows to display.\npredictions_O.select(\"prediction\", \"label\", \"features\").show(5)"
        },
        {
            "cell_type": "code",
            "execution_count": 114,
            "metadata": {},
            "outputs": [
                {
                    "name": "stdout",
                    "output_type": "stream",
                    "text": "R-squared coefficient on test data = 0.998286\nRoot Mean Squared Error (RMSE) on test data = 0.0697984\n"
                }
            ],
            "source": "# Select (prediction, true label) and compute test error\nOevaluator = RegressionEvaluator(\n    labelCol=\"label\", predictionCol=\"prediction\", metricName=\"rmse\")\nOrmse = Oevaluator.evaluate(predictions)\n# Select (prediction, true label) and compute test error\nOevaluatorr2 = RegressionEvaluator(\n    labelCol=\"label\", predictionCol=\"prediction\", metricName=\"r2\")\nOr2 = Oevaluatorr2.evaluate(predictions)\nprint(\"R-squared coefficient on test data = %g\" % Or2)\nprint(\"Root Mean Squared Error (RMSE) on test data = %g\" % Ormse)"
        },
        {
            "cell_type": "markdown",
            "metadata": {},
            "source": "### Note\n\nFrom the models above, we noticed that the GBT is performing better thant Linear Regression model. So when predictins the value, we decided to use the GBT Regressor."
        },
        {
            "cell_type": "markdown",
            "metadata": {},
            "source": "### 3.3. Deep Learning model with Keras"
        },
        {
            "cell_type": "code",
            "execution_count": 24,
            "metadata": {},
            "outputs": [],
            "source": "X_df1 = clean_df1.drop([\"label\"], axis=1)\ny_df1=clean_df1[\"label\"]"
        },
        {
            "cell_type": "code",
            "execution_count": 25,
            "metadata": {},
            "outputs": [],
            "source": "X_df = clean_df.drop([\"label\"], axis=1)\ny_df=clean_df[\"label\"]"
        },
        {
            "cell_type": "markdown",
            "metadata": {},
            "source": "### 3.1 Splitting the data"
        },
        {
            "cell_type": "code",
            "execution_count": 26,
            "metadata": {},
            "outputs": [],
            "source": "#We split the data set by taking 80% of data for training and 10% for testing. Note we use a rondom sampling\nX_train_df1, X_test_df1, y_train_df1, y_test_df1 = train_test_split(X_df1, y_df1, test_size=0.1, random_state=1)"
        },
        {
            "cell_type": "code",
            "execution_count": 27,
            "metadata": {},
            "outputs": [],
            "source": "#We split the data set by taking 80% of data for training and 10% for testing. Note we use a rondom sampling\nX_train_df, X_test_df, y_train_df, y_test_df = train_test_split(X_df, y_df, test_size=0.1, random_state=1)"
        },
        {
            "cell_type": "code",
            "execution_count": 28,
            "metadata": {},
            "outputs": [],
            "source": "input_shape_df1=X_train_df1.shape\ninput_shape_df=X_train_df.shape"
        },
        {
            "cell_type": "markdown",
            "metadata": {},
            "source": "### 3.2 Building model"
        },
        {
            "cell_type": "code",
            "execution_count": 33,
            "metadata": {},
            "outputs": [],
            "source": "### Building simple model for df1"
        },
        {
            "cell_type": "code",
            "execution_count": 31,
            "metadata": {},
            "outputs": [],
            "source": "def kears_model():\n    # create model\n    model = Sequential()\n    model.add(Dense(13, input_dim=input_shape_df1[1], kernel_initializer='normal', activation='relu'))\n    model.add(Dense(1, kernel_initializer='normal'))\n    # Compile model\n    model.compile(loss='mean_squared_error', optimizer='adam')\n    return model"
        },
        {
            "cell_type": "code",
            "execution_count": 32,
            "metadata": {},
            "outputs": [
                {
                    "name": "stdout",
                    "output_type": "stream",
                    "text": "Baseline: -3.08 (0.10) MSE\n"
                }
            ],
            "source": "# evaluate model\nestimator = KerasRegressor(build_fn=kears_model, epochs=100, batch_size=5, verbose=0)\nkfold = KFold(n_splits=10)\nresults = cross_val_score(estimator, X_train_df1, y_train_df1, cv=kfold)\nprint(\"Baseline: %.2f (%.2f) MSE\" % (results.mean(), results.std()))"
        },
        {
            "cell_type": "code",
            "execution_count": null,
            "metadata": {},
            "outputs": [],
            "source": " ### Building simple model for df"
        },
        {
            "cell_type": "code",
            "execution_count": 35,
            "metadata": {},
            "outputs": [],
            "source": "def kears_model_df():\n    # create model\n    model = Sequential()\n    model.add(Dense(13, input_dim=input_shape_df[1], kernel_initializer='normal', activation='relu'))\n    model.add(Dense(1, kernel_initializer='normal'))\n    # Compile model\n    model.compile(loss='mean_squared_error', optimizer='adam')\n    return model"
        },
        {
            "cell_type": "code",
            "execution_count": 36,
            "metadata": {},
            "outputs": [
                {
                    "name": "stdout",
                    "output_type": "stream",
                    "text": "Baseline: -12489654999.71 (0.10) MSE\n"
                }
            ],
            "source": "# evaluate model\nestimator = KerasRegressor(build_fn=kears_model_df, epochs=100, batch_size=5, verbose=0)\nkfold = KFold(n_splits=10)\nresultsDF = cross_val_score(estimator, X_train_df, y_train_df, cv=kfold)\nprint(\"Baseline: %.2f (%.2f) MSE\" % (resultsDF.mean(), results.std()))"
        },
        {
            "cell_type": "markdown",
            "metadata": {},
            "source": "# Summary\n\nIn this project we have learning:\n\n<ul>\n    <li>How to load, prepare and clean the data</li>\n    <li> How to feature selection </li>\n    <li> How to train model and deploy it</li>\n</li>"
        },
        {
            "cell_type": "markdown",
            "metadata": {},
            "source": "After checking 3 algorithm for our value prediction problem, we have concluded that the Gradient Boost Tree Regressor perform well over Linear Regression, Keras regressor algorithms. \n\nThe metrics used for this purpose were Root Mean Square Error and R-Squared. "
        }
    ],
    "metadata": {
        "kernelspec": {
            "display_name": "Python 3.6",
            "language": "python",
            "name": "python3"
        },
        "language_info": {
            "codemirror_mode": {
                "name": "ipython",
                "version": 3
            },
            "file_extension": ".py",
            "mimetype": "text/x-python",
            "name": "python",
            "nbconvert_exporter": "python",
            "pygments_lexer": "ipython3",
            "version": "3.6.9"
        }
    },
    "nbformat": 4,
    "nbformat_minor": 2
}